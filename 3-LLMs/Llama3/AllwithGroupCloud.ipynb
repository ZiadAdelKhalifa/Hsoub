{
 "cells": [
  {
   "cell_type": "markdown",
   "metadata": {},
   "source": [
    "#Here i used llama3 as i already finshed my free trail for api key from GPT\n"
   ]
  },
  {
   "cell_type": "code",
   "execution_count": 1,
   "metadata": {},
   "outputs": [
    {
     "name": "stdout",
     "output_type": "stream",
     "text": [
      "Requirement already satisfied: fastcore in c:\\users\\ziad\\anaconda3\\envs\\genai\\lib\\site-packages (1.5.48)\n",
      "Requirement already satisfied: packaging in c:\\users\\ziad\\anaconda3\\envs\\genai\\lib\\site-packages (from fastcore) (23.2)\n"
     ]
    }
   ],
   "source": [
    "!pip install fastcore"
   ]
  },
  {
   "cell_type": "code",
   "execution_count": 2,
   "metadata": {},
   "outputs": [
    {
     "name": "stdout",
     "output_type": "stream",
     "text": [
      "Why do programmers prefer dark mode?\n",
      "\n",
      "Because light attracts bugs!\n"
     ]
    }
   ],
   "source": [
    "\n",
    "from groq import Groq\n",
    "\n",
    "GROQ_API_KEY ='********************************'\n",
    "client = Groq(\n",
    "    api_key= GROQ_API_KEY\n",
    ")\n",
    "\n",
    "chat_completion = client.chat.completions.create(\n",
    "    messages=[\n",
    "    \n",
    "        {'role': 'system', 'content': 'You are a comedian who tells jokes.'},  # Define the role of the assistant as a comedian\n",
    "        {'role': 'user', 'content': 'Write a joke related to Python.'},  # User prompt for a Python-related joke\n",
    "        {'role': 'assistant', 'content': 'Q: Why do Python programmers prefer snakes over people? A: Because snakes have proper, consistent, and easy to understand scales!'},  # Example response from the assistant\n",
    "        {'role': 'user', 'content': 'Write a joke related to programmers.'}  # Another user prompt\n",
    "    \n",
    "      ],\n",
    "    model=\"llama3-70b-8192\",\n",
    ")\n",
    "\n",
    "print(chat_completion.choices[0].message.content)\n"
   ]
  },
  {
   "cell_type": "code",
   "execution_count": 3,
   "metadata": {},
   "outputs": [
    {
     "name": "stdout",
     "output_type": "stream",
     "text": [
      "CompletionUsage(completion_tokens=13, prompt_tokens=73, total_tokens=86, completion_time=0.037142857, prompt_time=0.03337931, queue_time=None, total_time=0.070522167)\n"
     ]
    }
   ],
   "source": [
    "print(chat_completion.usage)"
   ]
  },
  {
   "cell_type": "code",
   "execution_count": 5,
   "metadata": {},
   "outputs": [],
   "source": [
    "input_price=0.25/1000000 *13"
   ]
  },
  {
   "cell_type": "code",
   "execution_count": 6,
   "metadata": {},
   "outputs": [],
   "source": [
    "output_price=0.75/1000000 *73"
   ]
  },
  {
   "cell_type": "code",
   "execution_count": 7,
   "metadata": {},
   "outputs": [
    {
     "name": "stdout",
     "output_type": "stream",
     "text": [
      "5.8e-05\n"
     ]
    }
   ],
   "source": [
    "total=input_price+output_price\n",
    "print(total)"
   ]
  },
  {
   "cell_type": "markdown",
   "metadata": {},
   "source": [
    "#Use the chatGPT api for text compeletion"
   ]
  },
  {
   "cell_type": "code",
   "execution_count": 9,
   "metadata": {},
   "outputs": [
    {
     "name": "stdout",
     "output_type": "stream",
     "text": [
      "\"Love is not a flame that flickers bright, but a steady ember that glows quietly in the darkness, warming the heart and lighting the way.\"\n"
     ]
    }
   ],
   "source": [
    "GROQ_API_KEY ='******************************'\n",
    "client = Groq(\n",
    "    api_key= GROQ_API_KEY\n",
    ")\n",
    "\n",
    "chat_completion = client.chat.completions.create(\n",
    "    messages=[\n",
    "    \n",
    "        {'role': 'system', 'content': 'You are a writer who writes short thoughts.'}, \n",
    "        {'role': 'user', 'content': 'Write a thought about love.'},  \n",
    "      ],\n",
    "    model=\"llama3-70b-8192\",\n",
    ")\n",
    "\n",
    "print(chat_completion.choices[0].message.content)\n",
    "\n",
    "\n"
   ]
  },
  {
   "cell_type": "markdown",
   "metadata": {},
   "source": [
    "#use it for customer reviews"
   ]
  },
  {
   "cell_type": "code",
   "execution_count": 10,
   "metadata": {},
   "outputs": [],
   "source": [
    "system_prompt = '''You are an assistant that reviews customer comments.'''\n",
    "\n",
    "customer_review = '''مكان جميل أنصح الجميع بالذهاب اليه يحتوي علي جميع الخدمات والاقامة فيه مريحه'''\n",
    "\n",
    "user_translation_prompt = '''Translate the following customer review separated by *** into English:\n",
    "***\n",
    "{customer_review}\n",
    "***'''.format(customer_review=customer_review)\n",
    "\n",
    "model_translation_response = '''A beautiful place that I recommend everyone to go to has all the services and comfortable accommodation.'''\n",
    "\n",
    "user_topic_prompt = '''Please define the main topics in this review.'''\n",
    "\n",
    "messages = [\n",
    "    {'role': 'system', 'content': system_prompt},\n",
    "    {'role': 'user', 'content': user_translation_prompt},\n",
    "    {'role': 'assistant', 'content': model_translation_response},\n",
    "    {'role': 'user', 'content': user_topic_prompt}\n",
    "]"
   ]
  },
  {
   "cell_type": "code",
   "execution_count": 11,
   "metadata": {},
   "outputs": [
    {
     "name": "stdout",
     "output_type": "stream",
     "text": [
      "Based on the review, the main topics are:\n",
      "\n",
      "1. **Positive Recommendation**: The customer highly recommends the place to others.\n",
      "2. **Facilities and Services**: The place has all the necessary services and amenities.\n",
      "3. **Comfort**: The accommodation is comfortable.\n"
     ]
    }
   ],
   "source": [
    "chat_completion = client.chat.completions.create(\n",
    "    messages=messages,\n",
    "    model=\"llama3-70b-8192\",\n",
    ")\n",
    "\n",
    "print(chat_completion.choices[0].message.content)"
   ]
  },
  {
   "cell_type": "markdown",
   "metadata": {},
   "source": [
    "#define one or severale or several topics for customer reviews (in arabic)"
   ]
  },
  {
   "cell_type": "code",
   "execution_count": 12,
   "metadata": {},
   "outputs": [],
   "source": [
    "system_prompt = '''You are an assistant that reviews customer comments in arabic'''\n",
    "\n",
    "customer_review = '''مكان جميل أنصح الجميع بالذهاب اليه يحتوي علي جميع الخدمات والاقامة فيه مريحه'''\n",
    "\n",
    "model_output_example='''هذا التعليق ايجابي ويشير الي ان المكان قد اعجبه وكل شئ كان متاح حوله وكان يشعر بالراحه هناك'''\n",
    "user_topic_prompt = '''من فضلك حدد المواضيع الرئيسية في المراجعة'''\n",
    "\n",
    "messages = [\n",
    "    {'role': 'system', 'content': system_prompt},\n",
    "    {'role': 'user', 'content': customer_review},\n",
    "    {'role':'assistant','content':model_output_example},\n",
    "    {'role': 'user', 'content': user_topic_prompt}\n",
    "\n",
    "]\n"
   ]
  },
  {
   "cell_type": "code",
   "execution_count": 13,
   "metadata": {},
   "outputs": [
    {
     "name": "stdout",
     "output_type": "stream",
     "text": [
      "المواضيع الرئيسية في المراجعة هي:\n",
      "\n",
      "1. الجمال والРОЬية (مكان جميل)\n",
      "2. التوفر على الخدمات (يحتوي علي جميع الخدمات)\n",
      "3. راحةالإقامة (الاقامة فيه مريحه)\n"
     ]
    }
   ],
   "source": [
    "chat_completion = client.chat.completions.create(\n",
    "    messages=messages,\n",
    "    model=\"llama3-70b-8192\",\n",
    ")\n",
    "\n",
    "print(chat_completion.choices[0].message.content)"
   ]
  },
  {
   "cell_type": "code",
   "execution_count": 14,
   "metadata": {},
   "outputs": [
    {
     "name": "stdout",
     "output_type": "stream",
     "text": [
      "المواضيع الرئيسية في المراجعة هي:\n",
      "\n",
      "1. الجمال والРОЬية (مكان جميل)\n",
      "2. التوفر على الخدمات (يحتوي علي جميع الخدمات)\n",
      "3. راحةالإقامة (الاقامة فيه مريحه)\n"
     ]
    }
   ],
   "source": [
    "original_string=chat_completion.choices[0].message.content\n",
    "decoded_string=original_string.encode('utf-8').decode('unicode-escape')\n",
    "print(original_string)"
   ]
  },
  {
   "cell_type": "markdown",
   "metadata": {},
   "source": [
    "#Create function to use ChatGPT"
   ]
  },
  {
   "cell_type": "code",
   "execution_count": 15,
   "metadata": {},
   "outputs": [
    {
     "name": "stdout",
     "output_type": "stream",
     "text": [
      "Here are 4 of the most famous libraries in Artificial Intelligence (AI) and Machine Learning (ML) in Python:\n",
      "\n",
      "1. **TensorFlow**: An open-source software library for numerical computation, particularly well-suited and fine-tuned for large-scale Machine Learning and Deep Learning tasks.\n",
      "\n",
      "2. **Scikit-learn**: A machine learning library that provides a wide range of algorithms for classification, regression, clustering, and other tasks, along with tools for model selection, data preprocessing, and feature selection.\n",
      "\n",
      "3. **Keras**: A high-level neural networks API, written in Python, capable of running on top of TensorFlow, CNTK, or Theano. It's known for its simplicity and ease of use, making it a great choice for rapid prototyping and development.\n",
      "\n",
      "4. **OpenCV**: A computer vision library that provides a wide range of functions for image and video processing, feature detection, object recognition, and more. It's widely used in applications such as facial recognition, object detection, and image classification.\n",
      "\n",
      "These libraries are widely used in the AI and ML community, and are often used together to build complex AI systems.\n"
     ]
    }
   ],
   "source": [
    "\n",
    "chat_completion = client.chat.completions.create(\n",
    "    messages=[\n",
    "        {'role': 'system', 'content': 'You are a programmer'}, \n",
    "        {'role': 'user', 'content': 'what is python'}, \n",
    "        {'role':'assistant','content':'python is high level versatille programming language '},\n",
    "        {'role':'user','content':'list the names of the most 4 famous libraries in artificial intelligence in python'}\n",
    "    ],\n",
    "    model=\"llama3-70b-8192\",\n",
    ")\n",
    "\n",
    "print(chat_completion.choices[0].message.content)\n",
    "\n"
   ]
  },
  {
   "cell_type": "code",
   "execution_count": 16,
   "metadata": {},
   "outputs": [],
   "source": [
    "def askgpt(user,system=None,model=\"llama3-70b-8192\",**kwargs):\n",
    "    msgs=[]\n",
    "    if system: msgs.append({'role':'system','content':system})\n",
    "    msgs.append({'role':'user','content':user})\n",
    "    return client.chat.completions.create(model=model,messages=msgs)"
   ]
  },
  {
   "cell_type": "code",
   "execution_count": 17,
   "metadata": {},
   "outputs": [
    {
     "data": {
      "text/plain": [
       "ChatCompletion(id='chatcmpl-b16ee4dc-08fa-4628-ab5c-c86047d49116', choices=[Choice(finish_reason='stop', index=0, logprobs=None, message=ChatCompletionMessage(content='The question that has puzzled and intrigued humanity for centuries. As a philosopher, I shall attempt to provide an answer that is both profound and nuanced.\\n\\nThe meaning of life is a fundamentally subjective and ephemeral concept that has been debated and explored by philosophers, theologians, scientists, and thinkers across various disciplines. It\\'s a question that has sparked intense curiosity and introspection, as humans have sought to understand their purpose, significance, and place within the grand tapestry of existence.\\n\\nIn my view, the meaning of life is not a fixed or definitive concept; rather, it\\'s a dynamic, evolving, and highly personal construct that each individual must craft and refine for themselves. It\\'s a narrative that unfolds through our experiences, relationships, passions, and values, as we navigate the complexities and mysteries of existence.\\n\\nOne possible perspective is that the meaning of life lies in the pursuit of happiness, fulfillment, and personal growth. This might involve cultivating meaningful relationships, pursuing one\\'s passions, and contributing to the greater good. In this sense, the meaning of life is found in the journey itself, rather than in some predetermined destination.\\n\\nAnother perspective posits that the meaning of life is rooted in our search for purpose, significance, and transcendence. This might involve exploring spiritual or religious beliefs, seeking connection with something greater than ourselves, or finding ways to leave a lasting impact on the world.\\n\\nSome philosophers, like Friedrich Nietzsche, have argued that the meaning of life is not predetermined, but rather, it is something we must create for ourselves through our own values, desires, and aspirations. In this view, life has no inherent meaning, and it is up to each individual to forge their own purpose and significance.\\n\\nAlternatively, one might argue that the meaning of life is simply to exist, to be, and to experience the world around us. This perspective, inspired by the existentialist tradition, emphasizes the importance of living in the present moment, embracing the absurdity and uncertainty of life, and finding meaning in the sheer act of being alive.\\n\\nUltimately, the meaning of life is a deeply personal and subjective inquiry that defies a single, definitive answer. It\\'s a question that each individual must grapple with, reflect upon, and respond to in their own unique way.\\n\\nAs the ancient Greek philosopher, Aristotle, so wisely noted, \"We are what we repeatedly do. Excellence, then, is not an act, but a habit.\" In this sense, the meaning of life might be found in the habits, practices, and values that we cultivate and embody, as we strive to live a life of purpose, significance, and profound human connection.\\n\\nWhat do you think, dear friend? How do you perceive the meaning of life?', role='assistant', function_call=None, tool_calls=None))], created=1719929405, model='llama3-70b-8192', object='chat.completion', system_fingerprint='fp_87cbfbbc4d', usage=CompletionUsage(completion_tokens=545, prompt_tokens=25, total_tokens=570, completion_time=1.557142857, prompt_time=0.009472241, queue_time=None, total_time=1.5666150980000002), x_groq={'id': 'req_01j1swfypeeawvx52ke1475jvh'})"
      ]
     },
     "execution_count": 17,
     "metadata": {},
     "output_type": "execute_result"
    }
   ],
   "source": [
    "askgpt(\"what is the meaning of life\",system='you are a philosopher')"
   ]
  },
  {
   "cell_type": "code",
   "execution_count": 18,
   "metadata": {},
   "outputs": [],
   "source": [
    "from fastcore.utils import nested_idx\n",
    "def response(gptoutput): print(nested_idx(gptoutput,'choices',0,'message','content'))"
   ]
  },
  {
   "cell_type": "code",
   "execution_count": 19,
   "metadata": {},
   "outputs": [
    {
     "name": "stdout",
     "output_type": "stream",
     "text": [
      "The eternal question! As a philosopher, I've spent countless hours pondering this very query, and I must confess that the answer remains elusive, yet fascinating.\n",
      "\n",
      "You see, the meaning of life is not a fixed, objective truth that can be universally applied to all beings. Rather, it's a subjective, existential enigma that each individual must grapple with on their own terms.\n",
      "\n",
      "One way to approach this question is to consider the concept of \"meaning\" itself. What do we mean by \"meaning\"? Is it a sense of purpose, a feeling of fulfillment, a state of being that transcends the mundane? Or is it something more?\n",
      "\n",
      "Some philosophers, like Aristotle, have argued that the meaning of life lies in living a virtuous life, cultivating characteristics like wisdom, courage, and justice. For Aristotle, the ultimate goal was eudaimonia, often translated as \"happiness\" or \"flourishing,\" but which more accurately connotes a state of being that is fulfilling, rich, and meaningful.\n",
      "\n",
      "Others, like Epicurus, proposed that the meaning of life lies in the pursuit of pleasure, but not in the hedonistic sense. Rather, Epicurus advocated for a life of moderation, self-sufficiency, and the absence of physical pain and mental distress. For him, the goal was to achieve a state of tranquility and freedom from fear.\n",
      "\n",
      "In more modern times, philosophers like Jean-Paul Sartre and Martin Heidegger have emphasized the concept of \"existence\" as the fundamental aspect of human experience. According to Sartre, human beings are \"condemned to be free,\" meaning that we have the freedom to choose our own path, create our own meaning, and take responsibility for our choices. Heidegger, on the other hand, focused on the concept of \"Being-in-the-world,\" arguing that human existence is characterized by its temporal, spatial, and relational nature.\n",
      "\n",
      "And then, of course, there are those who propose that the meaning of life lies in something beyond human existence itself – in the realm of the divine, the universe, or the cosmos. For some, the meaning of life is to serve a higher power, to fulfill a divine plan, or to participate in the grand drama of existence.\n",
      "\n",
      "But what about those who reject all these options, who argue that life has no inherent meaning, that it's simply a brute fact, a biological imperative, or a cosmic accident? Ah, but even here, we find that the absence of meaning can become a kind of meaning in itself – a rejection of the notion that life must have a pre-determined purpose, and an embrace of the absurd, the uncertain, and the unknown.\n",
      "\n",
      "In the end, the meaning of life remains a mystery, a paradox, a koan that each of us must confront and resolve for ourselves. And that, perhaps, is the greatest mystery of all – that the meaning of life lies not in some fixed answer, but in the very act of questioning, searching, and creating our own meaning in the face of uncertainty.\n",
      "\n",
      "What do you think, my friend? What gives your life meaning, and how do you approach this fundamental question of human existence?\n"
     ]
    }
   ],
   "source": [
    "response(askgpt(\"what is the meaning of life\",system='you are a philosopher'))"
   ]
  },
  {
   "cell_type": "code",
   "execution_count": 20,
   "metadata": {},
   "outputs": [
    {
     "name": "stdout",
     "output_type": "stream",
     "text": [
      "Ooh, that's a big question! *thinks for a moment*\n",
      "\n",
      "I think the meaning of life is to have FUN! Yeah! We should play and laugh and make new friends and have yummy treats and go on adventures! And we should also be kind to each other and help our friends and family because that makes everyone happy!\n",
      "\n",
      "My mommy said something about finding our purpose and doing what makes us happy, but I think that's kinda the same thing, right? Like, if I'm having fun, I'm being happy! And if I'm being happy, I must be doing something right!\n",
      "\n",
      "Oh, and I also think the meaning of life is to get lots of hugs and snuggles from our loved ones! Because hugs make everything better, don't they?\n",
      "\n",
      "Wait, what do you think the meaning of life is? Do you think it's something else? Can we have a discussion about it? That would be so much fun!\n"
     ]
    }
   ],
   "source": [
    "response(askgpt(\"what is the meaning of life\",system='you are a child'))"
   ]
  },
  {
   "cell_type": "markdown",
   "metadata": {},
   "source": [
    "#make sentemental analysis for films review"
   ]
  },
  {
   "cell_type": "code",
   "execution_count": 21,
   "metadata": {},
   "outputs": [
    {
     "data": {
      "text/html": [
       "<div>\n",
       "<style scoped>\n",
       "    .dataframe tbody tr th:only-of-type {\n",
       "        vertical-align: middle;\n",
       "    }\n",
       "\n",
       "    .dataframe tbody tr th {\n",
       "        vertical-align: top;\n",
       "    }\n",
       "\n",
       "    .dataframe thead th {\n",
       "        text-align: right;\n",
       "    }\n",
       "</style>\n",
       "<table border=\"1\" class=\"dataframe\">\n",
       "  <thead>\n",
       "    <tr style=\"text-align: right;\">\n",
       "      <th></th>\n",
       "      <th>review</th>\n",
       "      <th>sentiment</th>\n",
       "    </tr>\n",
       "  </thead>\n",
       "  <tbody>\n",
       "    <tr>\n",
       "      <th>0</th>\n",
       "      <td>One of the other reviewers has mentioned that ...</td>\n",
       "      <td>positive</td>\n",
       "    </tr>\n",
       "    <tr>\n",
       "      <th>1</th>\n",
       "      <td>A wonderful little production. &lt;br /&gt;&lt;br /&gt;The...</td>\n",
       "      <td>positive</td>\n",
       "    </tr>\n",
       "    <tr>\n",
       "      <th>2</th>\n",
       "      <td>I thought this was a wonderful way to spend ti...</td>\n",
       "      <td>positive</td>\n",
       "    </tr>\n",
       "    <tr>\n",
       "      <th>3</th>\n",
       "      <td>Basically there's a family where a little boy ...</td>\n",
       "      <td>negative</td>\n",
       "    </tr>\n",
       "    <tr>\n",
       "      <th>4</th>\n",
       "      <td>Petter Mattei's \"Love in the Time of Money\" is...</td>\n",
       "      <td>positive</td>\n",
       "    </tr>\n",
       "    <tr>\n",
       "      <th>...</th>\n",
       "      <td>...</td>\n",
       "      <td>...</td>\n",
       "    </tr>\n",
       "    <tr>\n",
       "      <th>49995</th>\n",
       "      <td>I thought this movie did a down right good job...</td>\n",
       "      <td>positive</td>\n",
       "    </tr>\n",
       "    <tr>\n",
       "      <th>49996</th>\n",
       "      <td>Bad plot, bad dialogue, bad acting, idiotic di...</td>\n",
       "      <td>negative</td>\n",
       "    </tr>\n",
       "    <tr>\n",
       "      <th>49997</th>\n",
       "      <td>I am a Catholic taught in parochial elementary...</td>\n",
       "      <td>negative</td>\n",
       "    </tr>\n",
       "    <tr>\n",
       "      <th>49998</th>\n",
       "      <td>I'm going to have to disagree with the previou...</td>\n",
       "      <td>negative</td>\n",
       "    </tr>\n",
       "    <tr>\n",
       "      <th>49999</th>\n",
       "      <td>No one expects the Star Trek movies to be high...</td>\n",
       "      <td>negative</td>\n",
       "    </tr>\n",
       "  </tbody>\n",
       "</table>\n",
       "<p>50000 rows × 2 columns</p>\n",
       "</div>"
      ],
      "text/plain": [
       "                                                  review sentiment\n",
       "0      One of the other reviewers has mentioned that ...  positive\n",
       "1      A wonderful little production. <br /><br />The...  positive\n",
       "2      I thought this was a wonderful way to spend ti...  positive\n",
       "3      Basically there's a family where a little boy ...  negative\n",
       "4      Petter Mattei's \"Love in the Time of Money\" is...  positive\n",
       "...                                                  ...       ...\n",
       "49995  I thought this movie did a down right good job...  positive\n",
       "49996  Bad plot, bad dialogue, bad acting, idiotic di...  negative\n",
       "49997  I am a Catholic taught in parochial elementary...  negative\n",
       "49998  I'm going to have to disagree with the previou...  negative\n",
       "49999  No one expects the Star Trek movies to be high...  negative\n",
       "\n",
       "[50000 rows x 2 columns]"
      ]
     },
     "execution_count": 21,
     "metadata": {},
     "output_type": "execute_result"
    }
   ],
   "source": [
    "import pandas as pd\n",
    "\n",
    "df=pd.read_csv('IMDB Dataset.csv')\n",
    "\n",
    "df\n"
   ]
  },
  {
   "cell_type": "code",
   "execution_count": 22,
   "metadata": {},
   "outputs": [
    {
     "data": {
      "text/html": [
       "<div>\n",
       "<style scoped>\n",
       "    .dataframe tbody tr th:only-of-type {\n",
       "        vertical-align: middle;\n",
       "    }\n",
       "\n",
       "    .dataframe tbody tr th {\n",
       "        vertical-align: top;\n",
       "    }\n",
       "\n",
       "    .dataframe thead th {\n",
       "        text-align: right;\n",
       "    }\n",
       "</style>\n",
       "<table border=\"1\" class=\"dataframe\">\n",
       "  <thead>\n",
       "    <tr style=\"text-align: right;\">\n",
       "      <th></th>\n",
       "      <th>review</th>\n",
       "      <th>sentiment</th>\n",
       "    </tr>\n",
       "  </thead>\n",
       "  <tbody>\n",
       "    <tr>\n",
       "      <th>0</th>\n",
       "      <td>One of the other reviewers has mentioned that ...</td>\n",
       "      <td>positive</td>\n",
       "    </tr>\n",
       "    <tr>\n",
       "      <th>1</th>\n",
       "      <td>A wonderful little production. &lt;br /&gt;&lt;br /&gt;The...</td>\n",
       "      <td>positive</td>\n",
       "    </tr>\n",
       "    <tr>\n",
       "      <th>2</th>\n",
       "      <td>I thought this was a wonderful way to spend ti...</td>\n",
       "      <td>positive</td>\n",
       "    </tr>\n",
       "    <tr>\n",
       "      <th>3</th>\n",
       "      <td>Basically there's a family where a little boy ...</td>\n",
       "      <td>negative</td>\n",
       "    </tr>\n",
       "    <tr>\n",
       "      <th>4</th>\n",
       "      <td>Petter Mattei's \"Love in the Time of Money\" is...</td>\n",
       "      <td>positive</td>\n",
       "    </tr>\n",
       "  </tbody>\n",
       "</table>\n",
       "</div>"
      ],
      "text/plain": [
       "                                              review sentiment\n",
       "0  One of the other reviewers has mentioned that ...  positive\n",
       "1  A wonderful little production. <br /><br />The...  positive\n",
       "2  I thought this was a wonderful way to spend ti...  positive\n",
       "3  Basically there's a family where a little boy ...  negative\n",
       "4  Petter Mattei's \"Love in the Time of Money\" is...  positive"
      ]
     },
     "execution_count": 22,
     "metadata": {},
     "output_type": "execute_result"
    }
   ],
   "source": [
    "first_5_rows=df.head(5)\n",
    "first_5_rows"
   ]
  },
  {
   "cell_type": "code",
   "execution_count": 23,
   "metadata": {},
   "outputs": [],
   "source": [
    "def prepare_long_prompt(df):\n",
    "    initial_txt='Classify the sentiment in this sentences between these brackets,the response should be in a python list format'\n",
    "    prompt='['+df['review']+']'\n",
    "    return initial_txt+'\\n'.join(prompt)"
   ]
  },
  {
   "cell_type": "code",
   "execution_count": 24,
   "metadata": {},
   "outputs": [],
   "source": [
    "long_prompt=prepare_long_prompt(first_5_rows)"
   ]
  },
  {
   "cell_type": "code",
   "execution_count": 25,
   "metadata": {},
   "outputs": [
    {
     "data": {
      "text/plain": [
       "'Classify the sentiment in this sentences between these brackets,the response should be in a python list format[One of the other reviewers has mentioned that after watching just 1 Oz episode you\\'ll be hooked. They are right, as this is exactly what happened with me.<br /><br />The first thing that struck me about Oz was its brutality and unflinching scenes of violence, which set in right from the word GO. Trust me, this is not a show for the faint hearted or timid. This show pulls no punches with regards to drugs, sex or violence. Its is hardcore, in the classic use of the word.<br /><br />It is called OZ as that is the nickname given to the Oswald Maximum Security State Penitentary. It focuses mainly on Emerald City, an experimental section of the prison where all the cells have glass fronts and face inwards, so privacy is not high on the agenda. Em City is home to many..Aryans, Muslims, gangstas, Latinos, Christians, Italians, Irish and more....so scuffles, death stares, dodgy dealings and shady agreements are never far away.<br /><br />I would say the main appeal of the show is due to the fact that it goes where other shows wouldn\\'t dare. Forget pretty pictures painted for mainstream audiences, forget charm, forget romance...OZ doesn\\'t mess around. The first episode I ever saw struck me as so nasty it was surreal, I couldn\\'t say I was ready for it, but as I watched more, I developed a taste for Oz, and got accustomed to the high levels of graphic violence. Not just violence, but injustice (crooked guards who\\'ll be sold out for a nickel, inmates who\\'ll kill on order and get away with it, well mannered, middle class inmates being turned into prison bitches due to their lack of street skills or prison experience) Watching Oz, you may become comfortable with what is uncomfortable viewing....thats if you can get in touch with your darker side.]\\n[A wonderful little production. <br /><br />The filming technique is very unassuming- very old-time-BBC fashion and gives a comforting, and sometimes discomforting, sense of realism to the entire piece. <br /><br />The actors are extremely well chosen- Michael Sheen not only \"has got all the polari\" but he has all the voices down pat too! You can truly see the seamless editing guided by the references to Williams\\' diary entries, not only is it well worth the watching but it is a terrificly written and performed piece. A masterful production about one of the great master\\'s of comedy and his life. <br /><br />The realism really comes home with the little things: the fantasy of the guard which, rather than use the traditional \\'dream\\' techniques remains solid then disappears. It plays on our knowledge and our senses, particularly with the scenes concerning Orton and Halliwell and the sets (particularly of their flat with Halliwell\\'s murals decorating every surface) are terribly well done.]\\n[I thought this was a wonderful way to spend time on a too hot summer weekend, sitting in the air conditioned theater and watching a light-hearted comedy. The plot is simplistic, but the dialogue is witty and the characters are likable (even the well bread suspected serial killer). While some may be disappointed when they realize this is not Match Point 2: Risk Addiction, I thought it was proof that Woody Allen is still fully in control of the style many of us have grown to love.<br /><br />This was the most I\\'d laughed at one of Woody\\'s comedies in years (dare I say a decade?). While I\\'ve never been impressed with Scarlet Johanson, in this she managed to tone down her \"sexy\" image and jumped right into a average, but spirited young woman.<br /><br />This may not be the crown jewel of his career, but it was wittier than \"Devil Wears Prada\" and more interesting than \"Superman\" a great comedy to go see with friends.]\\n[Basically there\\'s a family where a little boy (Jake) thinks there\\'s a zombie in his closet & his parents are fighting all the time.<br /><br />This movie is slower than a soap opera... and suddenly, Jake decides to become Rambo and kill the zombie.<br /><br />OK, first of all when you\\'re going to make a film you must Decide if its a thriller or a drama! As a drama the movie is watchable. Parents are divorcing & arguing like in real life. And then we have Jake with his closet which totally ruins all the film! I expected to see a BOOGEYMAN similar movie, and instead i watched a drama with some meaningless thriller spots.<br /><br />3 out of 10 just for the well playing parents & descent dialogs. As for the shots with Jake: just ignore them.]\\n[Petter Mattei\\'s \"Love in the Time of Money\" is a visually stunning film to watch. Mr. Mattei offers us a vivid portrait about human relations. This is a movie that seems to be telling us what money, power and success do to people in the different situations we encounter. <br /><br />This being a variation on the Arthur Schnitzler\\'s play about the same theme, the director transfers the action to the present time New York where all these different characters meet and connect. Each one is connected in one way, or another to the next person, but no one seems to know the previous point of contact. Stylishly, the film has a sophisticated luxurious look. We are taken to see how these people live and the world they live in their own habitat.<br /><br />The only thing one gets out of all these souls in the picture is the different stages of loneliness each one inhabits. A big city is not exactly the best place in which human relations find sincere fulfillment, as one discerns is the case with most of the people we encounter.<br /><br />The acting is good under Mr. Mattei\\'s direction. Steve Buscemi, Rosario Dawson, Carol Kane, Michael Imperioli, Adrian Grenier, and the rest of the talented cast, make these characters come alive.<br /><br />We wish Mr. Mattei good luck and await anxiously for his next work.]'"
      ]
     },
     "execution_count": 25,
     "metadata": {},
     "output_type": "execute_result"
    }
   ],
   "source": [
    "long_prompt"
   ]
  },
  {
   "cell_type": "code",
   "execution_count": 27,
   "metadata": {},
   "outputs": [
    {
     "name": "stdout",
     "output_type": "stream",
     "text": [
      "Here is the sentiment analysis for each of the given texts:\n",
      "\n",
      "[\n",
      "    ['Positive'],\n",
      "    ['Positive'],\n",
      "    ['Positive'],\n",
      "    ['Negative'],\n",
      "    ['Positive']\n",
      "]\n",
      "\n",
      "Here's a breakdown of the sentiment analysis for each text:\n",
      "\n",
      "1. The first text is overwhelmingly positive, with the reviewer praising the show \"Oz\" for its brutal honesty and graphic content.\n",
      "2. The second text is also positive, with the reviewer praising the production values, acting, and writing of the drama about Joe Orton.\n",
      "3. The third text is positive, with the reviewer enjoying the light-hearted comedy and praising Woody Allen's direction and the performances of the cast.\n",
      "4. The fourth text is negative, with the reviewer criticizing the movie for being slow-paced and confusing, and expressing disappointment with the plot and characters.\n",
      "5. The fifth text is positive, with the reviewer praising the film's visual style, direction, and performances, and appreciating its thought-provoking themes and commentary on human relationships.\n"
     ]
    }
   ],
   "source": [
    "response(askgpt(long_prompt,system='you are trained to analiyze the sentiment of a given text '))\n"
   ]
  },
  {
   "cell_type": "code",
   "execution_count": 28,
   "metadata": {},
   "outputs": [
    {
     "data": {
      "text/html": [
       "<div>\n",
       "<style scoped>\n",
       "    .dataframe tbody tr th:only-of-type {\n",
       "        vertical-align: middle;\n",
       "    }\n",
       "\n",
       "    .dataframe tbody tr th {\n",
       "        vertical-align: top;\n",
       "    }\n",
       "\n",
       "    .dataframe thead th {\n",
       "        text-align: right;\n",
       "    }\n",
       "</style>\n",
       "<table border=\"1\" class=\"dataframe\">\n",
       "  <thead>\n",
       "    <tr style=\"text-align: right;\">\n",
       "      <th></th>\n",
       "      <th>review</th>\n",
       "      <th>sentiment</th>\n",
       "      <th>sentiment GPT3.5</th>\n",
       "    </tr>\n",
       "  </thead>\n",
       "  <tbody>\n",
       "    <tr>\n",
       "      <th>0</th>\n",
       "      <td>One of the other reviewers has mentioned that ...</td>\n",
       "      <td>positive</td>\n",
       "      <td>positive</td>\n",
       "    </tr>\n",
       "    <tr>\n",
       "      <th>1</th>\n",
       "      <td>A wonderful little production. &lt;br /&gt;&lt;br /&gt;The...</td>\n",
       "      <td>positive</td>\n",
       "      <td>positive</td>\n",
       "    </tr>\n",
       "    <tr>\n",
       "      <th>2</th>\n",
       "      <td>I thought this was a wonderful way to spend ti...</td>\n",
       "      <td>positive</td>\n",
       "      <td>positive</td>\n",
       "    </tr>\n",
       "    <tr>\n",
       "      <th>3</th>\n",
       "      <td>Basically there's a family where a little boy ...</td>\n",
       "      <td>negative</td>\n",
       "      <td>negative</td>\n",
       "    </tr>\n",
       "    <tr>\n",
       "      <th>4</th>\n",
       "      <td>Petter Mattei's \"Love in the Time of Money\" is...</td>\n",
       "      <td>positive</td>\n",
       "      <td>positive</td>\n",
       "    </tr>\n",
       "  </tbody>\n",
       "</table>\n",
       "</div>"
      ],
      "text/plain": [
       "                                              review sentiment  \\\n",
       "0  One of the other reviewers has mentioned that ...  positive   \n",
       "1  A wonderful little production. <br /><br />The...  positive   \n",
       "2  I thought this was a wonderful way to spend ti...  positive   \n",
       "3  Basically there's a family where a little boy ...  negative   \n",
       "4  Petter Mattei's \"Love in the Time of Money\" is...  positive   \n",
       "\n",
       "  sentiment GPT3.5  \n",
       "0         positive  \n",
       "1         positive  \n",
       "2         positive  \n",
       "3         negative  \n",
       "4         positive  "
      ]
     },
     "execution_count": 28,
     "metadata": {},
     "output_type": "execute_result"
    }
   ],
   "source": [
    "sentiments=[  'positive','positive','positive','negative','positive']\n",
    "sentiment_of_five=first_5_rows.copy()\n",
    "\n",
    "sentiment_of_five['sentiment GPT3.5']=sentiments\n",
    "sentiment_of_five"
   ]
  },
  {
   "cell_type": "code",
   "execution_count": null,
   "metadata": {},
   "outputs": [],
   "source": []
  }
 ],
 "metadata": {
  "kernelspec": {
   "display_name": "Genai",
   "language": "python",
   "name": "genai"
  },
  "language_info": {
   "codemirror_mode": {
    "name": "ipython",
    "version": 3
   },
   "file_extension": ".py",
   "mimetype": "text/x-python",
   "name": "python",
   "nbconvert_exporter": "python",
   "pygments_lexer": "ipython3",
   "version": "3.8.19"
  }
 },
 "nbformat": 4,
 "nbformat_minor": 2
}
