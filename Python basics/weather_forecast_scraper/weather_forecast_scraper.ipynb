{
 "cells": [
  {
   "cell_type": "code",
   "execution_count": 12,
   "metadata": {},
   "outputs": [
    {
     "name": "stdout",
     "output_type": "stream",
     "text": [
      "['Water temperature', 'Amsterdam', 'Antalya', 'Auckland', 'Bali', 'Barcelona', 'Buenos Aires', 'Cairo', 'Cancún', 'Cape Town', 'Dubai', 'Hanoi', 'Hong Kong', 'Honolulu', 'Ibiza Town', 'Istanbul', 'Lima', 'London', 'Marmagao', 'Oslo', 'Paris', 'Phuket', 'Rhodes', 'Rio de Janeiro', 'Rome', 'Seoul', 'Sharm el Sheikh', 'Singapore', 'Sydney', 'Tenerife', 'Tokyo', 'Toronto', 'Venice', 'Vienna']\n",
      "[14, 26, 15, 18, 20, 15, 29, 24, 15, 32, 30, 31, 29, 21, 23, 17, 15, 27, 11, 18, 26, 27, 22, 26, 25, 32, 23, 15, 22, 23, 22, 24, 20]\n",
      "['Few clouds', 'Clear sky', 'Few clouds', 'Light rain', 'Few clouds', 'Few clouds', 'Clear sky', 'Thunderstorm with heavy rain', 'Clear sky', 'Few clouds', 'Overcast clouds', 'Overcast clouds', 'Partly cloudy', 'Clear sky', 'Clear sky', 'Overcast clouds', 'Clear sky', 'Moderate rain', 'Clear sky', 'Broken clouds', 'Drizzle', 'Partly cloudy', 'Clear sky', 'Clear sky', 'Broken clouds', 'Clear sky', 'Moderate rain', 'Few clouds', 'Partly cloudy', 'Moderate rain', 'Light rain', 'Few clouds', 'Clear sky']\n",
      "[('Water temperature', 14, 'Few clouds'), ('Amsterdam', 26, 'Clear sky'), ('Antalya', 15, 'Few clouds'), ('Auckland', 18, 'Light rain'), ('Bali', 20, 'Few clouds'), ('Barcelona', 15, 'Few clouds'), ('Buenos Aires', 29, 'Clear sky'), ('Cairo', 24, 'Thunderstorm with heavy rain'), ('Cancún', 15, 'Clear sky'), ('Cape Town', 32, 'Few clouds'), ('Dubai', 30, 'Overcast clouds'), ('Hanoi', 31, 'Overcast clouds'), ('Hong Kong', 29, 'Partly cloudy'), ('Honolulu', 21, 'Clear sky'), ('Ibiza Town', 23, 'Clear sky'), ('Istanbul', 17, 'Overcast clouds'), ('Lima', 15, 'Clear sky'), ('London', 27, 'Moderate rain'), ('Marmagao', 11, 'Clear sky'), ('Oslo', 18, 'Broken clouds'), ('Paris', 26, 'Drizzle'), ('Phuket', 27, 'Partly cloudy'), ('Rhodes', 22, 'Clear sky'), ('Rio de Janeiro', 26, 'Clear sky'), ('Rome', 25, 'Broken clouds'), ('Seoul', 32, 'Clear sky'), ('Sharm el Sheikh', 23, 'Moderate rain'), ('Singapore', 15, 'Few clouds'), ('Sydney', 22, 'Partly cloudy'), ('Tenerife', 23, 'Moderate rain'), ('Tokyo', 22, 'Light rain'), ('Toronto', 24, 'Few clouds'), ('Venice', 20, 'Clear sky')]\n"
     ]
    }
   ],
   "source": [
    "import requests\n",
    "from bs4 import BeautifulSoup\n",
    "import re\n",
    "\n",
    "def get_forcast_data():\n",
    "    url='https://world-weather.info/'\n",
    "    headers={'user-agent' : 'Mozilla/5.0 (Windows NT 10.0; Win64; x64) AppleWebKit/537.36 (KHTML, like Gecko) Chrome/126.0.0.0 Safari/537.36'\n",
    "             ,'cookie' :'celsius=1'}\n",
    "\n",
    "    response=requests.get(url,headers=headers)\n",
    "\n",
    "    if response.ok:\n",
    "        soup=BeautifulSoup(response.content , 'html.parser')\n",
    "\n",
    "        resorts=soup.find('div',id='resorts')\n",
    "        #print(resorts)\n",
    "\n",
    "\n",
    "        #get cites names\n",
    "        re_cities=r'\">([\\w\\s]+)<\\/a>'\n",
    "        cites=re.findall(re_cities,str(resorts))\n",
    "        print(cites)\n",
    "\n",
    "\n",
    "        #get the temp values\n",
    "        re_temp=r'>(\\+\\d+|-\\d+)'\n",
    "        temps=re.findall(re_temp,str(resorts))\n",
    "        temps=[int(temp) for temp in temps]\n",
    "        print(temps)\n",
    "\n",
    "        #get the weather condition\n",
    "        condition_tage=resorts.find_all('span',class_='tooltip')\n",
    "        conditions=[condition.get('title') for condition in condition_tage ]\n",
    "        print(conditions)\n",
    "\n",
    "        data=zip(cites,temps,conditions)\n",
    "        return data\n",
    "    return False\n",
    "\n",
    "f=get_forcast_data()\n",
    "print(list(f))"
   ]
  },
  {
   "cell_type": "code",
   "execution_count": null,
   "metadata": {},
   "outputs": [],
   "source": []
  }
 ],
 "metadata": {
  "kernelspec": {
   "display_name": "Genai",
   "language": "python",
   "name": "genai"
  },
  "language_info": {
   "codemirror_mode": {
    "name": "ipython",
    "version": 3
   },
   "file_extension": ".py",
   "mimetype": "text/x-python",
   "name": "python",
   "nbconvert_exporter": "python",
   "pygments_lexer": "ipython3",
   "version": "3.8.19"
  }
 },
 "nbformat": 4,
 "nbformat_minor": 2
}
