{
 "cells": [
  {
   "cell_type": "code",
   "execution_count": 1,
   "metadata": {},
   "outputs": [
    {
     "name": "stdout",
     "output_type": "stream",
     "text": [
      "Collecting gym\n",
      "  Downloading gym-0.26.2.tar.gz (721 kB)\n",
      "     ---------------------------------------- 0.0/721.7 kB ? eta -:--:--\n",
      "     - ------------------------------------- 30.7/721.7 kB 1.3 MB/s eta 0:00:01\n",
      "     - ------------------------------------- 30.7/721.7 kB 1.3 MB/s eta 0:00:01\n",
      "     - ------------------------------------- 30.7/721.7 kB 1.3 MB/s eta 0:00:01\n",
      "     - ------------------------------------- 30.7/721.7 kB 1.3 MB/s eta 0:00:01\n",
      "     - ------------------------------------- 30.7/721.7 kB 1.3 MB/s eta 0:00:01\n",
      "     - ------------------------------------- 30.7/721.7 kB 1.3 MB/s eta 0:00:01\n",
      "     - ------------------------------------- 30.7/721.7 kB 1.3 MB/s eta 0:00:01\n",
      "     - ------------------------------------- 30.7/721.7 kB 1.3 MB/s eta 0:00:01\n",
      "     - ------------------------------------- 30.7/721.7 kB 1.3 MB/s eta 0:00:01\n",
      "     - ------------------------------------- 30.7/721.7 kB 1.3 MB/s eta 0:00:01\n",
      "     - ------------------------------------- 30.7/721.7 kB 1.3 MB/s eta 0:00:01\n",
      "     - ------------------------------------- 30.7/721.7 kB 1.3 MB/s eta 0:00:01\n",
      "     - ------------------------------------- 30.7/721.7 kB 1.3 MB/s eta 0:00:01\n",
      "     - ------------------------------------- 30.7/721.7 kB 1.3 MB/s eta 0:00:01\n",
      "     - ------------------------------------- 30.7/721.7 kB 1.3 MB/s eta 0:00:01\n",
      "     - ------------------------------------- 30.7/721.7 kB 1.3 MB/s eta 0:00:01\n",
      "     --- ---------------------------------- 61.4/721.7 kB 65.5 kB/s eta 0:00:11\n",
      "     --- ---------------------------------- 71.7/721.7 kB 75.6 kB/s eta 0:00:09\n",
      "     --- ---------------------------------- 71.7/721.7 kB 75.6 kB/s eta 0:00:09\n",
      "     --- ---------------------------------- 71.7/721.7 kB 75.6 kB/s eta 0:00:09\n",
      "     --- ---------------------------------- 71.7/721.7 kB 75.6 kB/s eta 0:00:09\n",
      "     ---- --------------------------------- 92.2/721.7 kB 79.4 kB/s eta 0:00:08\n",
      "     ---- --------------------------------- 92.2/721.7 kB 79.4 kB/s eta 0:00:08\n",
      "     ---- --------------------------------- 92.2/721.7 kB 79.4 kB/s eta 0:00:08\n",
      "     ----- ------------------------------- 102.4/721.7 kB 81.9 kB/s eta 0:00:08\n",
      "     ------- ---------------------------- 143.4/721.7 kB 109.2 kB/s eta 0:00:06\n",
      "     ------- ---------------------------- 143.4/721.7 kB 109.2 kB/s eta 0:00:06\n",
      "     ------- ---------------------------- 143.4/721.7 kB 109.2 kB/s eta 0:00:06\n",
      "     ------- ---------------------------- 143.4/721.7 kB 109.2 kB/s eta 0:00:06\n",
      "     ------- ---------------------------- 153.6/721.7 kB 104.3 kB/s eta 0:00:06\n",
      "     -------- --------------------------- 174.1/721.7 kB 115.2 kB/s eta 0:00:05\n",
      "     -------- --------------------------- 174.1/721.7 kB 115.2 kB/s eta 0:00:05\n",
      "     --------- -------------------------- 194.6/721.7 kB 122.9 kB/s eta 0:00:05\n",
      "     ---------- ------------------------- 204.8/721.7 kB 125.8 kB/s eta 0:00:05\n",
      "     ----------- ------------------------ 225.3/721.7 kB 133.6 kB/s eta 0:00:04\n",
      "     ------------ ----------------------- 245.8/721.7 kB 142.1 kB/s eta 0:00:04\n",
      "     ------------ ----------------------- 256.0/721.7 kB 141.6 kB/s eta 0:00:04\n",
      "     ------------- ---------------------- 276.5/721.7 kB 150.8 kB/s eta 0:00:03\n",
      "     -------------- --------------------- 286.7/721.7 kB 153.9 kB/s eta 0:00:03\n",
      "     --------------- -------------------- 307.2/721.7 kB 161.0 kB/s eta 0:00:03\n",
      "     ---------------- ------------------- 337.9/721.7 kB 171.8 kB/s eta 0:00:03\n",
      "     ----------------- ------------------ 358.4/721.7 kB 178.3 kB/s eta 0:00:03\n",
      "     ------------------ ----------------- 368.6/721.7 kB 179.2 kB/s eta 0:00:02\n",
      "     ------------------ ----------------- 368.6/721.7 kB 179.2 kB/s eta 0:00:02\n",
      "     ------------------ ----------------- 368.6/721.7 kB 179.2 kB/s eta 0:00:02\n",
      "     ------------------ ----------------- 368.6/721.7 kB 179.2 kB/s eta 0:00:02\n",
      "     ------------------ ----------------- 368.6/721.7 kB 179.2 kB/s eta 0:00:02\n",
      "     ------------------ ----------------- 368.6/721.7 kB 179.2 kB/s eta 0:00:02\n",
      "     ------------------ ----------------- 368.6/721.7 kB 179.2 kB/s eta 0:00:02\n",
      "     ------------------ ----------------- 368.6/721.7 kB 179.2 kB/s eta 0:00:02\n",
      "     ------------------ ----------------- 368.6/721.7 kB 179.2 kB/s eta 0:00:02\n",
      "     ------------------ ----------------- 368.6/721.7 kB 179.2 kB/s eta 0:00:02\n",
      "     ------------------ ----------------- 368.6/721.7 kB 179.2 kB/s eta 0:00:02\n",
      "     ------------------ ----------------- 368.6/721.7 kB 179.2 kB/s eta 0:00:02\n",
      "     ------------------ ----------------- 368.6/721.7 kB 179.2 kB/s eta 0:00:02\n",
      "     ------------------ ----------------- 368.6/721.7 kB 179.2 kB/s eta 0:00:02\n",
      "     ------------------ ----------------- 368.6/721.7 kB 179.2 kB/s eta 0:00:02\n",
      "     ------------------ ----------------- 368.6/721.7 kB 179.2 kB/s eta 0:00:02\n",
      "     ------------------ ----------------- 368.6/721.7 kB 179.2 kB/s eta 0:00:02\n",
      "     ------------------ ----------------- 368.6/721.7 kB 179.2 kB/s eta 0:00:02\n",
      "     ------------------ ----------------- 368.6/721.7 kB 179.2 kB/s eta 0:00:02\n",
      "     ------------------ ----------------- 368.6/721.7 kB 179.2 kB/s eta 0:00:02\n",
      "     ------------------ ----------------- 368.6/721.7 kB 179.2 kB/s eta 0:00:02\n",
      "     ------------------ ----------------- 368.6/721.7 kB 179.2 kB/s eta 0:00:02\n",
      "     ------------------ ----------------- 368.6/721.7 kB 179.2 kB/s eta 0:00:02\n",
      "     -------------------- --------------- 409.6/721.7 kB 130.4 kB/s eta 0:00:03\n",
      "     -------------------- --------------- 409.6/721.7 kB 130.4 kB/s eta 0:00:03\n",
      "     -------------------- --------------- 409.6/721.7 kB 130.4 kB/s eta 0:00:03\n",
      "     -------------------- --------------- 409.6/721.7 kB 130.4 kB/s eta 0:00:03\n",
      "     -------------------- --------------- 419.8/721.7 kB 126.0 kB/s eta 0:00:03\n",
      "     -------------------- --------------- 419.8/721.7 kB 126.0 kB/s eta 0:00:03\n",
      "     --------------------- -------------- 440.3/721.7 kB 128.0 kB/s eta 0:00:03\n",
      "     --------------------- -------------- 440.3/721.7 kB 128.0 kB/s eta 0:00:03\n",
      "     --------------------- -------------- 440.3/721.7 kB 128.0 kB/s eta 0:00:03\n",
      "     --------------------- -------------- 440.3/721.7 kB 128.0 kB/s eta 0:00:03\n",
      "     ---------------------- ------------- 450.6/721.7 kB 123.1 kB/s eta 0:00:03\n",
      "     ---------------------- ------------- 450.6/721.7 kB 123.1 kB/s eta 0:00:03\n",
      "     ----------------------- ------------ 471.0/721.7 kB 125.5 kB/s eta 0:00:02\n",
      "     ------------------------ ----------- 491.5/721.7 kB 128.9 kB/s eta 0:00:02\n",
      "     -------------------------- --------- 522.2/721.7 kB 133.8 kB/s eta 0:00:02\n",
      "     -------------------------- --------- 532.5/721.7 kB 135.3 kB/s eta 0:00:02\n",
      "     ----------------------------- ------ 583.7/721.7 kB 145.1 kB/s eta 0:00:01\n",
      "     ------------------------------ ----- 604.2/721.7 kB 149.0 kB/s eta 0:00:01\n",
      "     ------------------------------- ---- 634.9/721.7 kB 154.3 kB/s eta 0:00:01\n",
      "     -------------------------------- --- 655.4/721.7 kB 158.2 kB/s eta 0:00:01\n",
      "     ---------------------------------- - 686.1/721.7 kB 162.6 kB/s eta 0:00:01\n",
      "     ---------------------------------- - 696.3/721.7 kB 164.4 kB/s eta 0:00:01\n",
      "     ------------------------------------ 721.7/721.7 kB 168.0 kB/s eta 0:00:00\n",
      "  Installing build dependencies: started\n",
      "  Installing build dependencies: finished with status 'done'\n",
      "  Getting requirements to build wheel: started\n",
      "  Getting requirements to build wheel: finished with status 'done'\n",
      "  Preparing metadata (pyproject.toml): started\n",
      "  Preparing metadata (pyproject.toml): finished with status 'done'\n",
      "Requirement already satisfied: numpy>=1.18.0 in c:\\users\\ziad\\anaconda3\\envs\\genai\\lib\\site-packages (from gym) (1.24.3)\n",
      "Collecting cloudpickle>=1.2.0 (from gym)\n",
      "  Using cached cloudpickle-3.0.0-py3-none-any.whl.metadata (7.0 kB)\n",
      "Collecting gym-notices>=0.0.4 (from gym)\n",
      "  Downloading gym_notices-0.0.8-py3-none-any.whl.metadata (1.0 kB)\n",
      "Requirement already satisfied: importlib-metadata>=4.8.0 in c:\\users\\ziad\\anaconda3\\envs\\genai\\lib\\site-packages (from gym) (7.0.0)\n",
      "Requirement already satisfied: zipp>=0.5 in c:\\users\\ziad\\anaconda3\\envs\\genai\\lib\\site-packages (from importlib-metadata>=4.8.0->gym) (3.17.0)\n",
      "Using cached cloudpickle-3.0.0-py3-none-any.whl (20 kB)\n",
      "Downloading gym_notices-0.0.8-py3-none-any.whl (3.0 kB)\n",
      "Building wheels for collected packages: gym\n",
      "  Building wheel for gym (pyproject.toml): started\n",
      "  Building wheel for gym (pyproject.toml): finished with status 'done'\n",
      "  Created wheel for gym: filename=gym-0.26.2-py3-none-any.whl size=827635 sha256=7348b0b3a5192af18dc84aee50fbf5a41bcfdc7981b9034a1e90aeed32752924\n",
      "  Stored in directory: c:\\users\\ziad\\appdata\\local\\pip\\cache\\wheels\\17\\79\\65\\7afedc162d858b02708a3b8f7a6dd5b1000dcd5b0f894f7cc1\n",
      "Successfully built gym\n",
      "Installing collected packages: gym-notices, cloudpickle, gym\n",
      "Successfully installed cloudpickle-3.0.0 gym-0.26.2 gym-notices-0.0.8\n",
      "Note: you may need to restart the kernel to use updated packages.\n"
     ]
    }
   ],
   "source": [
    "pip install gym"
   ]
  },
  {
   "cell_type": "code",
   "execution_count": 2,
   "metadata": {},
   "outputs": [
    {
     "name": "stdout",
     "output_type": "stream",
     "text": [
      "+---------+\n",
      "|R: | : :G|\n",
      "| : | : : |\n",
      "| : : : : |\n",
      "|\u001b[43m \u001b[0m| : | : |\n",
      "|\u001b[35mY\u001b[0m| : |\u001b[34;1mB\u001b[0m: |\n",
      "+---------+\n",
      "\n",
      "\n"
     ]
    }
   ],
   "source": [
    "import gym\n",
    "\n",
    "env = gym.make(\"Taxi-v3\",render_mode=\"ansi\").env\n",
    "\n",
    "env.reset(seed=0)\n",
    "\n",
    "env = env.unwrapped\n",
    "\n",
    "arr=env.render()\n",
    "print(arr)"
   ]
  },
  {
   "cell_type": "code",
   "execution_count": 3,
   "metadata": {},
   "outputs": [
    {
     "name": "stdout",
     "output_type": "stream",
     "text": [
      "Action Space  Discrete(6)\n",
      "State Space  Discrete(500)\n"
     ]
    }
   ],
   "source": [
    "print(\"Action Space \", env.action_space)\n",
    "print(\"State Space \", env.observation_space)"
   ]
  },
  {
   "cell_type": "code",
   "execution_count": 4,
   "metadata": {},
   "outputs": [
    {
     "name": "stdout",
     "output_type": "stream",
     "text": [
      "State: 328\n",
      "+---------+\n",
      "|\u001b[35mR\u001b[0m: | : :G|\n",
      "| : | : : |\n",
      "| : : : : |\n",
      "| |\u001b[43m \u001b[0m: | : |\n",
      "|\u001b[34;1mY\u001b[0m| : |B: |\n",
      "+---------+\n",
      "\n",
      "\n"
     ]
    }
   ],
   "source": [
    "# (taxi row, taxi column, passenger index, destination index)\n",
    "state = env.encode(3, 1, 2, 0)#2:Y ,0:R\n",
    "print(\"State:\", state)\n",
    "\n",
    "env.s = state\n",
    " \n",
    "arr=env.render()\n",
    "print(arr)"
   ]
  },
  {
   "cell_type": "code",
   "execution_count": 5,
   "metadata": {},
   "outputs": [
    {
     "data": {
      "text/plain": [
       "{0: [(1.0, 428, -1, False)],\n",
       " 1: [(1.0, 228, -1, False)],\n",
       " 2: [(1.0, 348, -1, False)],\n",
       " 3: [(1.0, 328, -1, False)],\n",
       " 4: [(1.0, 328, -10, False)],\n",
       " 5: [(1.0, 328, -10, False)]}"
      ]
     },
     "execution_count": 5,
     "metadata": {},
     "output_type": "execute_result"
    }
   ],
   "source": [
    "env.P[env.s]"
   ]
  },
  {
   "cell_type": "code",
   "execution_count": 10,
   "metadata": {},
   "outputs": [
    {
     "name": "stdout",
     "output_type": "stream",
     "text": [
      "Timesteps taken: 70\n",
      "Penalties incurred: 18\n"
     ]
    }
   ],
   "source": [
    "# تحديد الحالة الابتدائية\n",
    "state = env.encode(3, 1, 2, 0) \n",
    "# إسناد الحالة للبيئة\n",
    "env.s = state\n",
    "\n",
    "# عداد الحركات\n",
    "epochs = 0\n",
    "# عداد مرات  الجزاء\n",
    "# لركوب أو إنزال خاطئ\n",
    "penalties= 0    \n",
    "\n",
    "# حفظ الحالات للتحريك لاحقا\n",
    "frames = [] # for animation\n",
    "# متغير للدلالة على الوصول للهدف\n",
    "done = False\n",
    "# كرر طالما لم نصل للهدف\n",
    "while not done:\n",
    "    # اختيار الفعل بشكل عشوائي\n",
    "    action = env.action_space.sample()\n",
    "    # الانتقال للحالة التالية\n",
    "    state, reward, done, _,_ = env.step(action)\n",
    "    # جمع عدد مرات الجزاء\n",
    "    if reward == -10:\n",
    "        penalties += 1\n",
    "          \n",
    "    # إضافة إطار للعرض لاحقاً\n",
    "    frames.append({\n",
    "        'state': state,\n",
    "        'action': action,\n",
    "        'reward': reward\n",
    "        }\n",
    "    )\n",
    "\n",
    "    epochs += 1\n",
    "      \n",
    "print(\"Timesteps taken: {}\".format(epochs))\n",
    "print(\"Penalties incurred: {}\".format(penalties))"
   ]
  },
  {
   "cell_type": "code",
   "execution_count": 11,
   "metadata": {},
   "outputs": [
    {
     "name": "stdout",
     "output_type": "stream",
     "text": [
      "+---------+\n",
      "|\u001b[35m\u001b[34;1m\u001b[43mR\u001b[0m\u001b[0m\u001b[0m: | : :G|\n",
      "| : | : : |\n",
      "| : : : : |\n",
      "| | : | : |\n",
      "|Y| : |B: |\n",
      "+---------+\n",
      "  (Dropoff)\n",
      "\n",
      "Timestep: 70\n",
      "State: 0\n",
      "Action: Drop-of\n",
      "Reward: 20\n"
     ]
    }
   ],
   "source": [
    "from IPython.display import clear_output\n",
    "# مكتبة التوقيت\n",
    "from time import sleep\n",
    "# دالة لمحاكة التجوال\n",
    "def print_frames(frames):\n",
    "    actions=['North','South','East','West','Pick-up','Drop-of']\n",
    "    for i, frame in enumerate(frames):\n",
    "        # الحالة التالية\n",
    "        env.s = frame['state']\n",
    "        # مسح الإظهار\n",
    "        clear_output(wait=True)\n",
    "       # الإظهار\n",
    "        arr=env.render()\n",
    "        print(arr)\n",
    "        # اسم الفعل\n",
    "        # طباعة المعلومات\n",
    "        print(f\"Timestep: {i + 1}\")\n",
    "        print(f\"State: {frame['state']}\")\n",
    "        print(f\"Action: {actions[frame['action']]}\")\n",
    "        print(f\"Reward: {frame['reward']}\")\n",
    "        sleep(0.1) # sleep 0.1 second\n",
    "# استدعاء الدالة        \n",
    "print_frames(frames)"
   ]
  },
  {
   "cell_type": "code",
   "execution_count": 12,
   "metadata": {},
   "outputs": [
    {
     "name": "stdout",
     "output_type": "stream",
     "text": [
      "Results after 100 episodes:\n",
      "Average timesteps per episode: 2465.46\n",
      "Average penalties per episode: 801.69\n"
     ]
    }
   ],
   "source": [
    "# تقييم الأداء دون التعلم\n",
    "\n",
    "# عدد الحلقات\n",
    "episodes = 100\n",
    "# عداد الحركات\n",
    "total_epochs = 0\n",
    "# عداد العقوبات\n",
    "total_penalties = 0\n",
    "\n",
    "for _ in range(episodes):\n",
    "    # حالة ابتدائية عشوائية\n",
    "    state = env.reset()\n",
    "    # عداد أخطاء الحلقة\n",
    "    penalties=0\n",
    "    # عداد أخطاء الحلقة\n",
    "    reward = 0\n",
    "    # عداد الحركات\n",
    "    epochs=0\n",
    "    done = False\n",
    "    # الدوران حتى الوصول إلى الهدف\n",
    "    while not done:\n",
    "        \n",
    "        # اختيار الفعل بشكل عشوائي\n",
    "        action = env.action_space.sample()\n",
    "        # الانتقال\n",
    "        state, reward, done, _,_ = env.step(action)\n",
    "        # عداد الأخطاء\n",
    "        if reward == -10:\n",
    "            penalties += 1\n",
    "        # عداد الحركات\n",
    "        epochs += 1\n",
    "    # العدد الكلي للأخطاء\n",
    "    total_penalties += penalties\n",
    "    # العدد الكلي للحركات\n",
    "    total_epochs += epochs\n",
    "# طباعة التقييم\n",
    "print(f\"Results after {episodes} episodes:\")\n",
    "# وسطي عدد الحركات للوصول إلى الهدف\n",
    "print(f\"Average timesteps per episode: {(total_epochs / episodes)}\")\n",
    "# وسطي عدد الأخطاء\n",
    "print(f\"Average penalties per episode: {total_penalties / episodes}\")"
   ]
  },
  {
   "cell_type": "code",
   "execution_count": 13,
   "metadata": {},
   "outputs": [
    {
     "data": {
      "text/plain": [
       "array([[0., 0., 0., 0., 0., 0.],\n",
       "       [0., 0., 0., 0., 0., 0.],\n",
       "       [0., 0., 0., 0., 0., 0.],\n",
       "       ...,\n",
       "       [0., 0., 0., 0., 0., 0.],\n",
       "       [0., 0., 0., 0., 0., 0.],\n",
       "       [0., 0., 0., 0., 0., 0.]])"
      ]
     },
     "execution_count": 13,
     "metadata": {},
     "output_type": "execute_result"
    }
   ],
   "source": [
    "# المكتبة نمباي\n",
    "import numpy as np\n",
    "# عدد الحالات\n",
    "states=env.observation_space.n\n",
    "# عدد الأفعال\n",
    "actions=env.action_space.n\n",
    "# إنشاء مصفوفة نمباي كلها أصفار\n",
    "# عدد الصفوف هو عدد الحالات\n",
    "# عدد الأعمدة هو عدد الأفعال\n",
    "q_table = np.zeros([states, actions])\n",
    "q_table"
   ]
  },
  {
   "cell_type": "code",
   "execution_count": 14,
   "metadata": {},
   "outputs": [
    {
     "name": "stdout",
     "output_type": "stream",
     "text": [
      "Training finished.\n",
      "\n"
     ]
    }
   ],
   "source": [
    "# تدريب الوكيل\n",
    "\n",
    "# المعاملات الأساسية\n",
    "alpha = 0.4\n",
    "gamma = 0.6\n",
    "\n",
    "# عدد الحلقات\n",
    "episodes = 100000\n",
    "\n",
    "for i in range(episodes):\n",
    "    # إعادة التهيئة وتعيين حالة ابتدائية عشوائية\n",
    "    state = env.reset()[0]\n",
    "    # عداد الحركات\n",
    "    epochs = 0\n",
    "    # عداد الأخطاء في الركوب و التنزيل\n",
    "    penalties = 0\n",
    "    done = False\n",
    "    # الدوران حتى الوصول للهدف\n",
    "    while not done:\n",
    "        action = np.argmax(q_table[state]) # القيمة العظمى لقيم التعلم\n",
    "        # القيمة السابقة\n",
    "        old_value = q_table[state, action]\n",
    "        # الانتقال للحالة التالية\n",
    "        next_state, reward, done, _,_ = env.step(action)\n",
    "        next_state=next_state\n",
    "        # أكبر قيمة في الحالة التالية\n",
    "        next_max = np.max(q_table[next_state])\n",
    "        # القيمة الجديدة\n",
    "        new_value = (1 - alpha) * old_value + alpha * (reward + gamma * next_max)\n",
    "        # تعديل القيمة\n",
    "        q_table[state, action] = new_value\n",
    "        # الانتقال للحالة التالية\n",
    "        state = next_state\n",
    "# الانتهاء من التعلم\n",
    "print(\"Training finished.\\n\")"
   ]
  },
  {
   "cell_type": "code",
   "execution_count": 15,
   "metadata": {},
   "outputs": [
    {
     "data": {
      "text/plain": [
       "array([[ 0.        ,  0.        ,  0.        ,  0.        ,  0.        ,\n",
       "         0.        ],\n",
       "       [-2.35548789, -2.34639386, -2.36437478, -2.34639386, -2.27325184,\n",
       "        -4.        ],\n",
       "       [-1.95257172, -1.97946063, -1.96912602, -1.97946063, -0.7504    ,\n",
       "        -4.        ],\n",
       "       ...,\n",
       "       [-1.62175492, -1.61720627, -1.62175492, -1.68427346, -4.        ,\n",
       "        -4.        ],\n",
       "       [-2.19147423, -2.17899312, -2.19147423, -2.17767951, -4.        ,\n",
       "        -4.        ],\n",
       "       [-0.736     , -0.736     , -0.736     ,  1.28      , -4.        ,\n",
       "        -4.        ]])"
      ]
     },
     "execution_count": 15,
     "metadata": {},
     "output_type": "execute_result"
    }
   ],
   "source": [
    "q_table"
   ]
  },
  {
   "cell_type": "code",
   "execution_count": 16,
   "metadata": {},
   "outputs": [
    {
     "name": "stdout",
     "output_type": "stream",
     "text": [
      "Results after 100 episodes:\n",
      "Average timesteps per episode: 13.2\n",
      "Average penalties per episode: 0.0\n"
     ]
    }
   ],
   "source": [
    "# تقييم الأداء بعد التعلم\n",
    "\n",
    "# عدد الحلقات\n",
    "episodes = 100\n",
    "# عداد الحركات\n",
    "total_epochs = 0\n",
    "# عداد العقوبات\n",
    "total_penalties = 0\n",
    "\n",
    "for _ in range(episodes):\n",
    "    # حالة ابتدائية عشوائية\n",
    "    state = env.reset()[0]\n",
    "    # عداد أخطاء الحلقة\n",
    "    penalties=0\n",
    "    # عداد أخطاء الحلقة\n",
    "    reward = 0\n",
    "    epochs=0\n",
    "    done = False\n",
    "    # الدوران حتى الوصول إلى الهدف\n",
    "    while not done:\n",
    "        \n",
    "        # اختيار الفعل الموافق لأكبر قيم تعلم للحالة الحالية\n",
    "        action = np.argmax(q_table[state])\n",
    "        # الانتقال\n",
    "        state, reward, done, _,_ = env.step(action)\n",
    "        # عداد الأخطاء\n",
    "        if reward == -10:\n",
    "            penalties += 1\n",
    "        # عداد الحركات\n",
    "        epochs += 1\n",
    "    # العدد الكلي للأخطاء\n",
    "    total_penalties += penalties\n",
    "    # العدد الكلي للحركات\n",
    "    total_epochs += epochs\n",
    "# طباعة التقييم\n",
    "print(f\"Results after {episodes} episodes:\")\n",
    "# وسطي عدد الحركات للوصول إلى الهدف\n",
    "print(f\"Average timesteps per episode: {(total_epochs / episodes)}\")\n",
    "# وسطي عدد الأخطاء\n",
    "print(f\"Average penalties per episode: {total_penalties / episodes}\")\n"
   ]
  },
  {
   "cell_type": "code",
   "execution_count": 19,
   "metadata": {},
   "outputs": [
    {
     "name": "stdout",
     "output_type": "stream",
     "text": [
      "+---------+\n",
      "|\u001b[35m\u001b[34;1m\u001b[43mR\u001b[0m\u001b[0m\u001b[0m: | : :G|\n",
      "| : | : : |\n",
      "| : : : : |\n",
      "| | : | : |\n",
      "|Y| : |B: |\n",
      "+---------+\n",
      "  (Dropoff)\n",
      "\n",
      "Timestep: 10\n",
      "State: 0\n",
      "Action: Drop-of\n",
      "Reward: 20\n"
     ]
    }
   ],
   "source": [
    "# تحديد الحالة الابتدائية\n",
    "state = env.encode(3, 1, 2, 0) \n",
    "print(\"State:\", state)\n",
    "# إسناد الحالة للبيئة\n",
    "env.s = state\n",
    "# الإظهار\n",
    "arr=env.render()\n",
    "print(arr)\n",
    "# حفظ الحالات للتحريك لاحقا\n",
    "frames = [] # for animation\n",
    "# متغير للدلالة على الوصول للهدف\n",
    "done = False\n",
    "# كرر طالما لم نصل للهدف\n",
    "while not done:\n",
    "    # اختيار الفعل الموافق لأكبر قيم تعلم للحالة الحالية\n",
    "    action = np.argmax(q_table[state])\n",
    "    # الانتقال للحالة التالية\n",
    "    state, reward, done, _, _ = env.step(action)\n",
    "          \n",
    "    # إضافة إطار للعرض لاحقاً\n",
    "    frames.append({\n",
    "        'state': state,\n",
    "        'action': action,\n",
    "        'reward': reward\n",
    "        }\n",
    "    )\n",
    "\n",
    "# استدعاء التحريك\n",
    "print_frames(frames)"
   ]
  },
  {
   "cell_type": "code",
   "execution_count": null,
   "metadata": {},
   "outputs": [],
   "source": []
  }
 ],
 "metadata": {
  "kernelspec": {
   "display_name": "Genai",
   "language": "python",
   "name": "genai"
  },
  "language_info": {
   "codemirror_mode": {
    "name": "ipython",
    "version": 3
   },
   "file_extension": ".py",
   "mimetype": "text/x-python",
   "name": "python",
   "nbconvert_exporter": "python",
   "pygments_lexer": "ipython3",
   "version": "3.8.19"
  },
  "vscode": {
   "interpreter": {
    "hash": "570feb405e2e27c949193ac68f46852414290d515b0ba6e5d90d076ed2284471"
   }
  }
 },
 "nbformat": 4,
 "nbformat_minor": 2
}
