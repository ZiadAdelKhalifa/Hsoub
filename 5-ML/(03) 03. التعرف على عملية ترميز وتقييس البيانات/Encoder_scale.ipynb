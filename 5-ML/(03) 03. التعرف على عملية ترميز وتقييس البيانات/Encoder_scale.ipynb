{
 "cells": [
  {
   "cell_type": "code",
   "execution_count": 1,
   "id": "7117ea6a",
   "metadata": {},
   "outputs": [],
   "source": [
    "Temp = ['Low', 'High', 'Normal', 'Low', 'Low', 'Normal', 'High', 'Normal', 'High']"
   ]
  },
  {
   "cell_type": "code",
   "execution_count": 2,
   "id": "bb9d20bb",
   "metadata": {},
   "outputs": [
    {
     "name": "stdout",
     "output_type": "stream",
     "text": [
      "[1 0 2 1 1 2 0 2 0]\n"
     ]
    }
   ],
   "source": [
    "from sklearn.preprocessing import LabelEncoder\n",
    "\n",
    "le = LabelEncoder()\n",
    "\n",
    "le.fit(Temp) \n",
    "\n",
    "T_Temp = le.transform(Temp)\n",
    "\n",
    "print(T_Temp)"
   ]
  },
  {
   "cell_type": "code",
   "execution_count": 3,
   "id": "e95b65a1",
   "metadata": {},
   "outputs": [
    {
     "name": "stdout",
     "output_type": "stream",
     "text": [
      "['High' 'Low' 'Normal']\n"
     ]
    }
   ],
   "source": [
    "print(le.classes_)"
   ]
  },
  {
   "cell_type": "code",
   "execution_count": 4,
   "id": "7f246814",
   "metadata": {},
   "outputs": [
    {
     "name": "stdout",
     "output_type": "stream",
     "text": [
      "High [0]\n",
      "Low [1]\n",
      "Normal [2]\n"
     ]
    }
   ],
   "source": [
    "for column in le.classes_:\n",
    "        print(column, le.transform([column]))"
   ]
  },
  {
   "cell_type": "code",
   "execution_count": 5,
   "id": "bb89aee3",
   "metadata": {},
   "outputs": [
    {
     "name": "stdout",
     "output_type": "stream",
     "text": [
      "['Normal' 'Low' 'High']\n"
     ]
    }
   ],
   "source": [
    "values = [2, 1, 0]\n",
    "\n",
    "cat_values = le.inverse_transform(values)\n",
    "\n",
    "print(cat_values)"
   ]
  },
  {
   "cell_type": "code",
   "execution_count": 8,
   "id": "360ccb8d",
   "metadata": {},
   "outputs": [
    {
     "name": "stdout",
     "output_type": "stream",
     "text": [
      "[[  1.      1.      1.   ]\n",
      " [ 25.75   35.65   30.   ]\n",
      " [ 75.25   62.875  60.   ]\n",
      " [100.    100.    100.   ]]\n"
     ]
    }
   ],
   "source": [
    "from sklearn.preprocessing import MinMaxScaler\n",
    "\n",
    "X=[[2000, 20, 1], [3000, 34, 30], [5000, 45, 60], [6000, 60, 100]]\n",
    "\n",
    "data_scaler = MinMaxScaler(feature_range=(1,100))\n",
    "\n",
    "data_scaler.fit(X)\n",
    "\n",
    "TX = data_scaler.transform(X)\n",
    "\n",
    "print(TX)"
   ]
  },
  {
   "cell_type": "code",
   "execution_count": 9,
   "id": "929a3f27",
   "metadata": {},
   "outputs": [
    {
     "name": "stdout",
     "output_type": "stream",
     "text": [
      "[[-1.26491106 -1.34635188 -1.27464781]\n",
      " [-0.63245553 -0.39197586 -0.48395719]\n",
      " [ 0.63245553  0.35789101  0.33399862]\n",
      " [ 1.26491106  1.38043673  1.42460637]]\n"
     ]
    }
   ],
   "source": [
    "from sklearn.preprocessing import StandardScaler\n",
    "\n",
    "X=[[2000, 20, 1], [3000, 34, 30], [5000, 45, 60], [6000, 60, 100]]\n",
    "\n",
    "sc = StandardScaler()\n",
    "\n",
    "TX = sc.fit_transform(X)\n",
    "\n",
    "print(TX)"
   ]
  }
 ],
 "metadata": {
  "kernelspec": {
   "display_name": "Python 3 (ipykernel)",
   "language": "python",
   "name": "python3"
  },
  "language_info": {
   "codemirror_mode": {
    "name": "ipython",
    "version": 3
   },
   "file_extension": ".py",
   "mimetype": "text/x-python",
   "name": "python",
   "nbconvert_exporter": "python",
   "pygments_lexer": "ipython3",
   "version": "3.10.9"
  }
 },
 "nbformat": 4,
 "nbformat_minor": 5
}
