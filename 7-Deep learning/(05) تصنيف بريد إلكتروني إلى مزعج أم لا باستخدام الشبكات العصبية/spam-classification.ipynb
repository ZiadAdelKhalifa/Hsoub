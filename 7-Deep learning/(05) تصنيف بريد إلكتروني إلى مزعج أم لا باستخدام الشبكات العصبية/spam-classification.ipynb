{
 "cells": [
  {
   "cell_type": "code",
   "execution_count": 15,
   "id": "170ae3c7",
   "metadata": {},
   "outputs": [
    {
     "data": {
      "text/html": [
       "<div>\n",
       "<style scoped>\n",
       "    .dataframe tbody tr th:only-of-type {\n",
       "        vertical-align: middle;\n",
       "    }\n",
       "\n",
       "    .dataframe tbody tr th {\n",
       "        vertical-align: top;\n",
       "    }\n",
       "\n",
       "    .dataframe thead th {\n",
       "        text-align: right;\n",
       "    }\n",
       "</style>\n",
       "<table border=\"1\" class=\"dataframe\">\n",
       "  <thead>\n",
       "    <tr style=\"text-align: right;\">\n",
       "      <th></th>\n",
       "      <th>Spam</th>\n",
       "      <th>Message</th>\n",
       "    </tr>\n",
       "  </thead>\n",
       "  <tbody>\n",
       "    <tr>\n",
       "      <th>0</th>\n",
       "      <td>0</td>\n",
       "      <td>Please call me at 8</td>\n",
       "    </tr>\n",
       "    <tr>\n",
       "      <th>1</th>\n",
       "      <td>1</td>\n",
       "      <td>Free money is available for you</td>\n",
       "    </tr>\n",
       "    <tr>\n",
       "      <th>2</th>\n",
       "      <td>0</td>\n",
       "      <td>I study he studies they are students I studied...</td>\n",
       "    </tr>\n",
       "    <tr>\n",
       "      <th>3</th>\n",
       "      <td>1</td>\n",
       "      <td>I am working at office now to 9 evening</td>\n",
       "    </tr>\n",
       "    <tr>\n",
       "      <th>4</th>\n",
       "      <td>0</td>\n",
       "      <td>U dun say so early hor... U c already then say...</td>\n",
       "    </tr>\n",
       "  </tbody>\n",
       "</table>\n",
       "</div>"
      ],
      "text/plain": [
       "   Spam                                            Message\n",
       "0     0                                Please call me at 8\n",
       "1     1                    Free money is available for you\n",
       "2     0  I study he studies they are students I studied...\n",
       "3     1            I am working at office now to 9 evening\n",
       "4     0  U dun say so early hor... U c already then say..."
      ]
     },
     "execution_count": 15,
     "metadata": {},
     "output_type": "execute_result"
    }
   ],
   "source": [
    "import pandas as pd \n",
    "\n",
    "df = pd.read_csv('emails.csv')\n",
    "df.head()"
   ]
  },
  {
   "cell_type": "code",
   "execution_count": 1,
   "id": "fc4fb769",
   "metadata": {},
   "outputs": [
    {
     "name": "stdout",
     "output_type": "stream",
     "text": [
      "Collecting nltk\n",
      "  Using cached nltk-3.8.1-py3-none-any.whl.metadata (2.8 kB)\n",
      "Requirement already satisfied: click in c:\\users\\ziad\\anaconda3\\envs\\id_card\\lib\\site-packages (from nltk) (8.1.7)\n",
      "Requirement already satisfied: joblib in c:\\users\\ziad\\anaconda3\\envs\\id_card\\lib\\site-packages (from nltk) (1.4.2)\n",
      "Collecting regex>=2021.8.3 (from nltk)\n",
      "  Downloading regex-2024.7.24-cp38-cp38-win_amd64.whl.metadata (41 kB)\n",
      "     ---------------------------------------- 0.0/41.5 kB ? eta -:--:--\n",
      "     ---------------------------------------- 0.0/41.5 kB ? eta -:--:--\n",
      "     --------- ------------------------------ 10.2/41.5 kB ? eta -:--:--\n",
      "     ----------------------------- ---------- 30.7/41.5 kB 1.3 MB/s eta 0:00:01\n",
      "     ----------------------------- ---------- 30.7/41.5 kB 1.3 MB/s eta 0:00:01\n",
      "     ----------------------------- ---------- 30.7/41.5 kB 1.3 MB/s eta 0:00:01\n",
      "     ----------------------------- ---------- 30.7/41.5 kB 1.3 MB/s eta 0:00:01\n",
      "     -------------------------------------- 41.5/41.5 kB 133.8 kB/s eta 0:00:00\n",
      "Collecting tqdm (from nltk)\n",
      "  Downloading tqdm-4.66.5-py3-none-any.whl.metadata (57 kB)\n",
      "     ---------------------------------------- 0.0/57.6 kB ? eta -:--:--\n",
      "     ---------------------------------------- 0.0/57.6 kB ? eta -:--:--\n",
      "     ------- -------------------------------- 10.2/57.6 kB ? eta -:--:--\n",
      "     ------- -------------------------------- 10.2/57.6 kB ? eta -:--:--\n",
      "     -------------------- ----------------- 30.7/57.6 kB 217.9 kB/s eta 0:00:01\n",
      "     -------------------- ----------------- 30.7/57.6 kB 217.9 kB/s eta 0:00:01\n",
      "     --------------------------------- ---- 51.2/57.6 kB 201.8 kB/s eta 0:00:01\n",
      "     -------------------------------------- 57.6/57.6 kB 202.4 kB/s eta 0:00:00\n",
      "Requirement already satisfied: colorama in c:\\users\\ziad\\anaconda3\\envs\\id_card\\lib\\site-packages (from click->nltk) (0.4.6)\n",
      "Using cached nltk-3.8.1-py3-none-any.whl (1.5 MB)\n",
      "Downloading regex-2024.7.24-cp38-cp38-win_amd64.whl (269 kB)\n",
      "   ---------------------------------------- 0.0/269.7 kB ? eta -:--:--\n",
      "   ---------------------------------------- 0.0/269.7 kB ? eta -:--:--\n",
      "   - -------------------------------------- 10.2/269.7 kB ? eta -:--:--\n",
      "   - -------------------------------------- 10.2/269.7 kB ? eta -:--:--\n",
      "   - -------------------------------------- 10.2/269.7 kB ? eta -:--:--\n",
      "   ----- --------------------------------- 41.0/269.7 kB 245.8 kB/s eta 0:00:01\n",
      "   ----- --------------------------------- 41.0/269.7 kB 245.8 kB/s eta 0:00:01\n",
      "   -------- ------------------------------ 61.4/269.7 kB 233.8 kB/s eta 0:00:01\n",
      "   -------- ------------------------------ 61.4/269.7 kB 233.8 kB/s eta 0:00:01\n",
      "   -------- ------------------------------ 61.4/269.7 kB 233.8 kB/s eta 0:00:01\n",
      "   -------- ------------------------------ 61.4/269.7 kB 233.8 kB/s eta 0:00:01\n",
      "   -------- ------------------------------ 61.4/269.7 kB 233.8 kB/s eta 0:00:01\n",
      "   -------- ------------------------------ 61.4/269.7 kB 233.8 kB/s eta 0:00:01\n",
      "   -------- ------------------------------ 61.4/269.7 kB 233.8 kB/s eta 0:00:01\n",
      "   -------- ------------------------------ 61.4/269.7 kB 233.8 kB/s eta 0:00:01\n",
      "   -------- ------------------------------ 61.4/269.7 kB 233.8 kB/s eta 0:00:01\n",
      "   -------- ------------------------------ 61.4/269.7 kB 233.8 kB/s eta 0:00:01\n",
      "   -------- ------------------------------ 61.4/269.7 kB 233.8 kB/s eta 0:00:01\n",
      "   -------- ------------------------------ 61.4/269.7 kB 233.8 kB/s eta 0:00:01\n",
      "   -------- ------------------------------ 61.4/269.7 kB 233.8 kB/s eta 0:00:01\n",
      "   -------- ------------------------------ 61.4/269.7 kB 233.8 kB/s eta 0:00:01\n",
      "   -------- ------------------------------ 61.4/269.7 kB 233.8 kB/s eta 0:00:01\n",
      "   -------- ------------------------------ 61.4/269.7 kB 233.8 kB/s eta 0:00:01\n",
      "   -------- ------------------------------ 61.4/269.7 kB 233.8 kB/s eta 0:00:01\n",
      "   -------- ------------------------------ 61.4/269.7 kB 233.8 kB/s eta 0:00:01\n",
      "   -------- ------------------------------ 61.4/269.7 kB 233.8 kB/s eta 0:00:01\n",
      "   -------- ------------------------------ 61.4/269.7 kB 233.8 kB/s eta 0:00:01\n",
      "   -------- ------------------------------ 61.4/269.7 kB 233.8 kB/s eta 0:00:01\n",
      "   -------- ------------------------------ 61.4/269.7 kB 233.8 kB/s eta 0:00:01\n",
      "   -------- ------------------------------ 61.4/269.7 kB 233.8 kB/s eta 0:00:01\n",
      "   -------- ------------------------------ 61.4/269.7 kB 233.8 kB/s eta 0:00:01\n",
      "   -------- ------------------------------ 61.4/269.7 kB 233.8 kB/s eta 0:00:01\n",
      "   -------- ------------------------------ 61.4/269.7 kB 233.8 kB/s eta 0:00:01\n",
      "   -------- ------------------------------ 61.4/269.7 kB 233.8 kB/s eta 0:00:01\n",
      "   -------- ------------------------------ 61.4/269.7 kB 233.8 kB/s eta 0:00:01\n",
      "   --------------------------- ---------- 194.6/269.7 kB 107.2 kB/s eta 0:00:01\n",
      "   --------------------------- ---------- 194.6/269.7 kB 107.2 kB/s eta 0:00:01\n",
      "   --------------------------- ---------- 194.6/269.7 kB 107.2 kB/s eta 0:00:01\n",
      "   --------------------------- ---------- 194.6/269.7 kB 107.2 kB/s eta 0:00:01\n",
      "   ------------------------------ ------- 215.0/269.7 kB 107.5 kB/s eta 0:00:01\n",
      "   ------------------------------ ------- 215.0/269.7 kB 107.5 kB/s eta 0:00:01\n",
      "   ------------------------------ ------- 215.0/269.7 kB 107.5 kB/s eta 0:00:01\n",
      "   ------------------------------ ------- 215.0/269.7 kB 107.5 kB/s eta 0:00:01\n",
      "   --------------------------------- ---- 235.5/269.7 kB 106.8 kB/s eta 0:00:01\n",
      "   ---------------------------------- --- 245.8/269.7 kB 111.7 kB/s eta 0:00:01\n",
      "   ---------------------------------- --- 245.8/269.7 kB 111.7 kB/s eta 0:00:01\n",
      "   -------------------------------------- 269.7/269.7 kB 116.9 kB/s eta 0:00:00\n",
      "Downloading tqdm-4.66.5-py3-none-any.whl (78 kB)\n",
      "   ---------------------------------------- 0.0/78.4 kB ? eta -:--:--\n",
      "   ---------------------------------------- 0.0/78.4 kB ? eta -:--:--\n",
      "   -------------------- ------------------- 41.0/78.4 kB ? eta -:--:--\n",
      "   -------------------- ------------------- 41.0/78.4 kB ? eta -:--:--\n",
      "   ------------------------------------ --- 71.7/78.4 kB 563.7 kB/s eta 0:00:01\n",
      "   ---------------------------------------- 78.4/78.4 kB 544.9 kB/s eta 0:00:00\n",
      "Installing collected packages: tqdm, regex, nltk\n",
      "Successfully installed nltk-3.8.1 regex-2024.7.24 tqdm-4.66.5\n",
      "Note: you may need to restart the kernel to use updated packages.\n"
     ]
    },
    {
     "name": "stderr",
     "output_type": "stream",
     "text": [
      "ERROR: pip's dependency resolver does not currently take into account all the packages that are installed. This behaviour is the source of the following dependency conflicts.\n",
      "ydata-profiling 4.8.3 requires PyYAML<6.1,>=5.0.0, which is not installed.\n",
      "ydata-profiling 4.8.3 requires requests<3,>=2.24.0, which is not installed.\n"
     ]
    }
   ],
   "source": [
    "pip install nltk"
   ]
  },
  {
   "cell_type": "code",
   "execution_count": 3,
   "id": "9cb551cc",
   "metadata": {},
   "outputs": [
    {
     "name": "stderr",
     "output_type": "stream",
     "text": [
      "[nltk_data] Downloading package punkt to\n",
      "[nltk_data]     C:\\Users\\Ziad\\AppData\\Roaming\\nltk_data...\n",
      "[nltk_data]   Unzipping tokenizers\\punkt.zip.\n",
      "[nltk_data] Downloading package stopwords to\n",
      "[nltk_data]     C:\\Users\\Ziad\\AppData\\Roaming\\nltk_data...\n",
      "[nltk_data]   Package stopwords is already up-to-date!\n"
     ]
    },
    {
     "data": {
      "text/plain": [
       "True"
      ]
     },
     "execution_count": 3,
     "metadata": {},
     "output_type": "execute_result"
    }
   ],
   "source": [
    "import nltk\n",
    "\n",
    "from nltk.tokenize import word_tokenize\n",
    "\n",
    "from nltk.corpus import stopwords\n",
    "\n",
    "from nltk.stem import PorterStemmer\n",
    "\n",
    "nltk.download('punkt')\n",
    "\n",
    "nltk.download('stopwords')"
   ]
  },
  {
   "cell_type": "code",
   "execution_count": 4,
   "id": "abb86a88",
   "metadata": {},
   "outputs": [
    {
     "data": {
      "text/plain": [
       "['hi', ':', 'i', 'am', 'working', 'on', 'spam', 'classification', '!']"
      ]
     },
     "execution_count": 4,
     "metadata": {},
     "output_type": "execute_result"
    }
   ],
   "source": [
    "text=\"Hi: I am working on spam classification!\"\n",
    "\n",
    "tokens = word_tokenize(text.lower())\n",
    "tokens"
   ]
  },
  {
   "cell_type": "code",
   "execution_count": 5,
   "id": "c6b3df2a",
   "metadata": {},
   "outputs": [
    {
     "data": {
      "text/plain": [
       "['hi', 'i', 'am', 'working', 'on', 'spam', 'classification']"
      ]
     },
     "execution_count": 5,
     "metadata": {},
     "output_type": "execute_result"
    }
   ],
   "source": [
    "import string\n",
    "\n",
    "tokens = [token for token in tokens if token not in string.punctuation]\n",
    "tokens"
   ]
  },
  {
   "cell_type": "code",
   "execution_count": 6,
   "id": "8c1ff453",
   "metadata": {},
   "outputs": [
    {
     "name": "stdout",
     "output_type": "stream",
     "text": [
      "!\"#$%&'()*+,-./:;<=>?@[\\]^_`{|}~\n"
     ]
    }
   ],
   "source": [
    "print(string.punctuation)"
   ]
  },
  {
   "cell_type": "code",
   "execution_count": 7,
   "id": "edd76d7a",
   "metadata": {},
   "outputs": [
    {
     "data": {
      "text/plain": [
       "['hi', 'working', 'spam', 'classification']"
      ]
     },
     "execution_count": 7,
     "metadata": {},
     "output_type": "execute_result"
    }
   ],
   "source": [
    "stop_words = stopwords.words('english')\n",
    "\n",
    "tokens = [token for token in tokens if token not in stop_words]\n",
    "tokens"
   ]
  },
  {
   "cell_type": "code",
   "execution_count": 8,
   "id": "b23b010c",
   "metadata": {},
   "outputs": [
    {
     "name": "stdout",
     "output_type": "stream",
     "text": [
      "['i', 'me', 'my', 'myself', 'we', 'our', 'ours', 'ourselves', 'you', \"you're\", \"you've\", \"you'll\", \"you'd\", 'your', 'yours', 'yourself', 'yourselves', 'he', 'him', 'his', 'himself', 'she', \"she's\", 'her', 'hers', 'herself', 'it', \"it's\", 'its', 'itself', 'they', 'them', 'their', 'theirs', 'themselves', 'what', 'which', 'who', 'whom', 'this', 'that', \"that'll\", 'these', 'those', 'am', 'is', 'are', 'was', 'were', 'be', 'been', 'being', 'have', 'has', 'had', 'having', 'do', 'does', 'did', 'doing', 'a', 'an', 'the', 'and', 'but', 'if', 'or', 'because', 'as', 'until', 'while', 'of', 'at', 'by', 'for', 'with', 'about', 'against', 'between', 'into', 'through', 'during', 'before', 'after', 'above', 'below', 'to', 'from', 'up', 'down', 'in', 'out', 'on', 'off', 'over', 'under', 'again', 'further', 'then', 'once', 'here', 'there', 'when', 'where', 'why', 'how', 'all', 'any', 'both', 'each', 'few', 'more', 'most', 'other', 'some', 'such', 'no', 'nor', 'not', 'only', 'own', 'same', 'so', 'than', 'too', 'very', 's', 't', 'can', 'will', 'just', 'don', \"don't\", 'should', \"should've\", 'now', 'd', 'll', 'm', 'o', 're', 've', 'y', 'ain', 'aren', \"aren't\", 'couldn', \"couldn't\", 'didn', \"didn't\", 'doesn', \"doesn't\", 'hadn', \"hadn't\", 'hasn', \"hasn't\", 'haven', \"haven't\", 'isn', \"isn't\", 'ma', 'mightn', \"mightn't\", 'mustn', \"mustn't\", 'needn', \"needn't\", 'shan', \"shan't\", 'shouldn', \"shouldn't\", 'wasn', \"wasn't\", 'weren', \"weren't\", 'won', \"won't\", 'wouldn', \"wouldn't\"]\n"
     ]
    }
   ],
   "source": [
    "print(stop_words)"
   ]
  },
  {
   "cell_type": "code",
   "execution_count": 9,
   "id": "5bf211c5",
   "metadata": {},
   "outputs": [
    {
     "name": "stdout",
     "output_type": "stream",
     "text": [
      "179\n"
     ]
    }
   ],
   "source": [
    "print(len(stop_words))"
   ]
  },
  {
   "cell_type": "code",
   "execution_count": 10,
   "id": "c998ead5",
   "metadata": {},
   "outputs": [
    {
     "data": {
      "text/plain": [
       "['hi', 'work', 'spam', 'classif']"
      ]
     },
     "execution_count": 10,
     "metadata": {},
     "output_type": "execute_result"
    }
   ],
   "source": [
    "stemmer = PorterStemmer()\n",
    "\n",
    "tokens = [stemmer.stem(token) for token in tokens]\n",
    "tokens"
   ]
  },
  {
   "cell_type": "code",
   "execution_count": 11,
   "id": "423a6cdb",
   "metadata": {},
   "outputs": [
    {
     "name": "stdout",
     "output_type": "stream",
     "text": [
      "comput\n",
      "comput\n",
      "comput\n",
      "comput\n",
      "comput\n"
     ]
    }
   ],
   "source": [
    "ps = PorterStemmer()\n",
    "\n",
    "print(ps.stem(\"computer\"))\n",
    "print(ps.stem(\"computation\"))\n",
    "print(ps.stem(\"compute\"))\n",
    "print(ps.stem(\"computed\"))\n",
    "print(ps.stem(\"computers\"))"
   ]
  },
  {
   "cell_type": "code",
   "execution_count": 12,
   "id": "7b142221",
   "metadata": {},
   "outputs": [],
   "source": [
    "import re\n",
    "\n",
    "def preprocess_text(text):\n",
    "    \n",
    "    tokens = word_tokenize(text.lower())\n",
    "    \n",
    "    tokens = [token for token in tokens if token not in string.punctuation]\n",
    "    \n",
    "    stop_words = stopwords.words('english')\n",
    "    tokens = [token for token in tokens if token not in stop_words]\n",
    "    \n",
    "    stemmer = PorterStemmer()\n",
    "    tokens = [stemmer.stem(token) for token in tokens]\n",
    "    \n",
    "    preprocessed_text = ' '.join(tokens)\n",
    "    #replace re.sub(r'http\\S+|www\\S+') with space ,\\S+ means number of letters \n",
    "    preprocessed_text = re.sub(r'http\\S+|www\\S+', '', preprocessed_text)\n",
    "    #re.sub(r'\\d+', '' :to replace any digatis or numbers with space\n",
    "    preprocessed_text = re.sub(r'\\d+', '', preprocessed_text)\n",
    "    return preprocessed_text"
   ]
  },
  {
   "cell_type": "code",
   "execution_count": 13,
   "id": "430fc40d",
   "metadata": {},
   "outputs": [
    {
     "name": "stdout",
     "output_type": "stream",
     "text": [
      "hello  exampl email spam classif\n"
     ]
    }
   ],
   "source": [
    "email = \"Hello! These are 5678 examples of emails for spam classification. \"\n",
    "\n",
    "preprocessed_email = preprocess_text(email)\n",
    "print(preprocessed_email)"
   ]
  },
  {
   "cell_type": "code",
   "execution_count": 16,
   "id": "3b0d32bc",
   "metadata": {},
   "outputs": [
    {
     "data": {
      "text/html": [
       "<div>\n",
       "<style scoped>\n",
       "    .dataframe tbody tr th:only-of-type {\n",
       "        vertical-align: middle;\n",
       "    }\n",
       "\n",
       "    .dataframe tbody tr th {\n",
       "        vertical-align: top;\n",
       "    }\n",
       "\n",
       "    .dataframe thead th {\n",
       "        text-align: right;\n",
       "    }\n",
       "</style>\n",
       "<table border=\"1\" class=\"dataframe\">\n",
       "  <thead>\n",
       "    <tr style=\"text-align: right;\">\n",
       "      <th></th>\n",
       "      <th>Spam</th>\n",
       "      <th>Message</th>\n",
       "      <th>processed_Message</th>\n",
       "    </tr>\n",
       "  </thead>\n",
       "  <tbody>\n",
       "    <tr>\n",
       "      <th>0</th>\n",
       "      <td>0</td>\n",
       "      <td>Please call me at 8</td>\n",
       "      <td>pleas call</td>\n",
       "    </tr>\n",
       "    <tr>\n",
       "      <th>1</th>\n",
       "      <td>1</td>\n",
       "      <td>Free money is available for you</td>\n",
       "      <td>free money avail</td>\n",
       "    </tr>\n",
       "    <tr>\n",
       "      <th>2</th>\n",
       "      <td>0</td>\n",
       "      <td>I study he studies they are students I studied...</td>\n",
       "      <td>studi studi student studi yesterday</td>\n",
       "    </tr>\n",
       "    <tr>\n",
       "      <th>3</th>\n",
       "      <td>1</td>\n",
       "      <td>I am working at office now to 9 evening</td>\n",
       "      <td>work offic  even</td>\n",
       "    </tr>\n",
       "    <tr>\n",
       "      <th>4</th>\n",
       "      <td>0</td>\n",
       "      <td>U dun say so early hor... U c already then say...</td>\n",
       "      <td>u dun say earli hor ... u c alreadi say ...</td>\n",
       "    </tr>\n",
       "    <tr>\n",
       "      <th>...</th>\n",
       "      <td>...</td>\n",
       "      <td>...</td>\n",
       "      <td>...</td>\n",
       "    </tr>\n",
       "    <tr>\n",
       "      <th>5222</th>\n",
       "      <td>0</td>\n",
       "      <td>It‘s reassuring, in this crazy world.</td>\n",
       "      <td>‘ reassur crazi world</td>\n",
       "    </tr>\n",
       "    <tr>\n",
       "      <th>5223</th>\n",
       "      <td>0</td>\n",
       "      <td>Oh... Okie lor...We go on sat...</td>\n",
       "      <td>oh ... oki lor ... go sat ...</td>\n",
       "    </tr>\n",
       "    <tr>\n",
       "      <th>5224</th>\n",
       "      <td>1</td>\n",
       "      <td>You are awarded a SiPix Digital Camera! call 0...</td>\n",
       "      <td>award sipix digit camera call  landlin deliver...</td>\n",
       "    </tr>\n",
       "    <tr>\n",
       "      <th>5225</th>\n",
       "      <td>0</td>\n",
       "      <td>Hey chief, can you give me a bell when you get...</td>\n",
       "      <td>hey chief give bell get need talk royal visit ...</td>\n",
       "    </tr>\n",
       "    <tr>\n",
       "      <th>5226</th>\n",
       "      <td>1</td>\n",
       "      <td>ASKED 3MOBILE IF 0870 CHATLINES INCLU IN FREE ...</td>\n",
       "      <td>ask mobil  chatlin inclu free min india cust s...</td>\n",
       "    </tr>\n",
       "  </tbody>\n",
       "</table>\n",
       "<p>5227 rows × 3 columns</p>\n",
       "</div>"
      ],
      "text/plain": [
       "      Spam                                            Message  \\\n",
       "0        0                                Please call me at 8   \n",
       "1        1                    Free money is available for you   \n",
       "2        0  I study he studies they are students I studied...   \n",
       "3        1            I am working at office now to 9 evening   \n",
       "4        0  U dun say so early hor... U c already then say...   \n",
       "...    ...                                                ...   \n",
       "5222     0              It‘s reassuring, in this crazy world.   \n",
       "5223     0                   Oh... Okie lor...We go on sat...   \n",
       "5224     1  You are awarded a SiPix Digital Camera! call 0...   \n",
       "5225     0  Hey chief, can you give me a bell when you get...   \n",
       "5226     1  ASKED 3MOBILE IF 0870 CHATLINES INCLU IN FREE ...   \n",
       "\n",
       "                                      processed_Message  \n",
       "0                                           pleas call   \n",
       "1                                      free money avail  \n",
       "2                   studi studi student studi yesterday  \n",
       "3                                      work offic  even  \n",
       "4           u dun say earli hor ... u c alreadi say ...  \n",
       "...                                                 ...  \n",
       "5222                              ‘ reassur crazi world  \n",
       "5223                      oh ... oki lor ... go sat ...  \n",
       "5224  award sipix digit camera call  landlin deliver...  \n",
       "5225  hey chief give bell get need talk royal visit ...  \n",
       "5226  ask mobil  chatlin inclu free min india cust s...  \n",
       "\n",
       "[5227 rows x 3 columns]"
      ]
     },
     "execution_count": 16,
     "metadata": {},
     "output_type": "execute_result"
    }
   ],
   "source": [
    "df['processed_Message'] = df['Message'].apply(preprocess_text)\n",
    "\n",
    "df\n"
   ]
  },
  {
   "cell_type": "code",
   "execution_count": 17,
   "id": "a0f7b6ac",
   "metadata": {},
   "outputs": [],
   "source": [
    "df_spam = df[df['Spam']==1]"
   ]
  },
  {
   "cell_type": "code",
   "execution_count": 2,
   "id": "d9603fec",
   "metadata": {},
   "outputs": [
    {
     "name": "stdout",
     "output_type": "stream",
     "text": [
      "Requirement already satisfied: wordcloud in c:\\users\\ziad\\appdata\\roaming\\python\\python38\\site-packages (1.9.3)\n",
      "Requirement already satisfied: numpy>=1.6.1 in c:\\users\\ziad\\anaconda3\\envs\\id_card\\lib\\site-packages (from wordcloud) (1.24.4)\n",
      "Requirement already satisfied: pillow in c:\\users\\ziad\\anaconda3\\envs\\id_card\\lib\\site-packages (from wordcloud) (10.4.0)\n",
      "Requirement already satisfied: matplotlib in c:\\users\\ziad\\anaconda3\\envs\\id_card\\lib\\site-packages (from wordcloud) (3.7.5)\n",
      "Requirement already satisfied: contourpy>=1.0.1 in c:\\users\\ziad\\anaconda3\\envs\\id_card\\lib\\site-packages (from matplotlib->wordcloud) (1.1.1)\n",
      "Requirement already satisfied: cycler>=0.10 in c:\\users\\ziad\\anaconda3\\envs\\id_card\\lib\\site-packages (from matplotlib->wordcloud) (0.12.1)\n",
      "Requirement already satisfied: fonttools>=4.22.0 in c:\\users\\ziad\\anaconda3\\envs\\id_card\\lib\\site-packages (from matplotlib->wordcloud) (4.53.1)\n",
      "Requirement already satisfied: kiwisolver>=1.0.1 in c:\\users\\ziad\\anaconda3\\envs\\id_card\\lib\\site-packages (from matplotlib->wordcloud) (1.4.5)\n",
      "Requirement already satisfied: packaging>=20.0 in c:\\users\\ziad\\anaconda3\\envs\\id_card\\lib\\site-packages (from matplotlib->wordcloud) (24.1)\n",
      "Requirement already satisfied: pyparsing>=2.3.1 in c:\\users\\ziad\\anaconda3\\envs\\id_card\\lib\\site-packages (from matplotlib->wordcloud) (3.1.2)\n",
      "Requirement already satisfied: python-dateutil>=2.7 in c:\\users\\ziad\\anaconda3\\envs\\id_card\\lib\\site-packages (from matplotlib->wordcloud) (2.9.0.post0)\n",
      "Requirement already satisfied: importlib-resources>=3.2.0 in c:\\users\\ziad\\anaconda3\\envs\\id_card\\lib\\site-packages (from matplotlib->wordcloud) (6.4.0)\n",
      "Requirement already satisfied: zipp>=3.1.0 in c:\\users\\ziad\\anaconda3\\envs\\id_card\\lib\\site-packages (from importlib-resources>=3.2.0->matplotlib->wordcloud) (3.19.2)\n",
      "Requirement already satisfied: six>=1.5 in c:\\users\\ziad\\anaconda3\\envs\\id_card\\lib\\site-packages (from python-dateutil>=2.7->matplotlib->wordcloud) (1.16.0)\n",
      "Note: you may need to restart the kernel to use updated packages.\n"
     ]
    }
   ],
   "source": [
    "pip install wordcloud"
   ]
  },
  {
   "cell_type": "code",
   "execution_count": 18,
   "id": "40ec3137",
   "metadata": {},
   "outputs": [
    {
     "data": {
      "image/png": "[encoded data removed]",
      "text/plain": [
       "<Figure size 600x400 with 1 Axes>"
      ]
     },
     "metadata": {},
     "output_type": "display_data"
    }
   ],
   "source": [
    "import matplotlib.pyplot as plt\n",
    "\n",
    "from wordcloud import WordCloud\n",
    "\n",
    "spam_words_list = df_spam['processed_Message'].astype(str)\n",
    "\n",
    "spam_words_str = ' '.join(spam_words_list)\n",
    "\n",
    "spam_wordcloud = WordCloud(width=500, height=300).generate(spam_words_str)\n",
    "\n",
    "plt.figure(figsize=(6, 4))\n",
    "\n",
    "plt.imshow(spam_wordcloud)\n",
    "\n",
    "plt.axis(\"off\")\n",
    "\n",
    "plt.show()"
   ]
  },
  {
   "cell_type": "code",
   "execution_count": 36,
   "id": "6298533f",
   "metadata": {},
   "outputs": [
    {
     "name": "stdout",
     "output_type": "stream",
     "text": [
      "  (0, 4)\t1\n",
      "  (0, 0)\t1\n",
      "  (0, 1)\t1\n",
      "  (0, 5)\t1\n",
      "  (0, 2)\t1\n",
      "  (1, 0)\t1\n",
      "  (1, 5)\t1\n",
      "  (1, 2)\t1\n",
      "  (2, 0)\t1\n",
      "  (2, 5)\t2\n",
      "  (2, 2)\t1\n",
      "  (2, 3)\t1\n",
      "  (3, 4)\t1\n",
      "  (3, 0)\t1\n",
      "  (3, 1)\t1\n",
      "  (3, 3)\t1\n"
     ]
    }
   ],
   "source": [
    "from sklearn.feature_extraction.text import CountVectorizer \n",
    "\n",
    "documents = [\n",
    "    \"My cat and dog sat on the mat\",\n",
    "    \"strange cat jumped over the mat\",\n",
    "    \"His cat ate the mouse ran across the mat\",\n",
    "    \"Her dog run after my cat and mouse\",\n",
    "]\n",
    "\n",
    "max_features=6\n",
    "\n",
    "count_vectorizer = CountVectorizer(max_features=max_features)\n",
    "\n",
    "vectors = count_vectorizer.fit_transform(documents)\n",
    "\n",
    "print(vectors)"
   ]
  },
  {
   "cell_type": "code",
   "execution_count": 37,
   "id": "83ce5219",
   "metadata": {},
   "outputs": [
    {
     "name": "stdout",
     "output_type": "stream",
     "text": [
      "Feature Names:\n",
      "['cat' 'dog' 'mat' 'mouse' 'my' 'the']\n"
     ]
    }
   ],
   "source": [
    "feature_names = count_vectorizer.get_feature_names_out()\n",
    "\n",
    "print(\"Feature Names:\")\n",
    "print(feature_names)"
   ]
  },
  {
   "cell_type": "code",
   "execution_count": 38,
   "id": "a4d49033",
   "metadata": {},
   "outputs": [
    {
     "name": "stdout",
     "output_type": "stream",
     "text": [
      "[[1 1 1 0 1 1]\n",
      " [1 0 1 0 0 1]\n",
      " [1 0 1 1 0 2]\n",
      " [1 1 0 1 1 0]]\n"
     ]
    }
   ],
   "source": [
    "print(vectors.toarray())"
   ]
  },
  {
   "cell_type": "code",
   "execution_count": 39,
   "id": "0f3c133a",
   "metadata": {},
   "outputs": [
    {
     "data": {
      "text/html": [
       "<div>\n",
       "<style scoped>\n",
       "    .dataframe tbody tr th:only-of-type {\n",
       "        vertical-align: middle;\n",
       "    }\n",
       "\n",
       "    .dataframe tbody tr th {\n",
       "        vertical-align: top;\n",
       "    }\n",
       "\n",
       "    .dataframe thead th {\n",
       "        text-align: right;\n",
       "    }\n",
       "</style>\n",
       "<table border=\"1\" class=\"dataframe\">\n",
       "  <thead>\n",
       "    <tr style=\"text-align: right;\">\n",
       "      <th></th>\n",
       "      <th>cat</th>\n",
       "      <th>dog</th>\n",
       "      <th>mat</th>\n",
       "      <th>mouse</th>\n",
       "      <th>my</th>\n",
       "      <th>the</th>\n",
       "    </tr>\n",
       "  </thead>\n",
       "  <tbody>\n",
       "    <tr>\n",
       "      <th>0</th>\n",
       "      <td>1</td>\n",
       "      <td>1</td>\n",
       "      <td>1</td>\n",
       "      <td>0</td>\n",
       "      <td>1</td>\n",
       "      <td>1</td>\n",
       "    </tr>\n",
       "    <tr>\n",
       "      <th>1</th>\n",
       "      <td>1</td>\n",
       "      <td>0</td>\n",
       "      <td>1</td>\n",
       "      <td>0</td>\n",
       "      <td>0</td>\n",
       "      <td>1</td>\n",
       "    </tr>\n",
       "    <tr>\n",
       "      <th>2</th>\n",
       "      <td>1</td>\n",
       "      <td>0</td>\n",
       "      <td>1</td>\n",
       "      <td>1</td>\n",
       "      <td>0</td>\n",
       "      <td>2</td>\n",
       "    </tr>\n",
       "    <tr>\n",
       "      <th>3</th>\n",
       "      <td>1</td>\n",
       "      <td>1</td>\n",
       "      <td>0</td>\n",
       "      <td>1</td>\n",
       "      <td>1</td>\n",
       "      <td>0</td>\n",
       "    </tr>\n",
       "  </tbody>\n",
       "</table>\n",
       "</div>"
      ],
      "text/plain": [
       "   cat  dog  mat  mouse  my  the\n",
       "0    1    1    1      0   1    1\n",
       "1    1    0    1      0   0    1\n",
       "2    1    0    1      1   0    2\n",
       "3    1    1    0      1   1    0"
      ]
     },
     "execution_count": 39,
     "metadata": {},
     "output_type": "execute_result"
    }
   ],
   "source": [
    "example_df = pd.DataFrame(data=vectors.toarray(),columns=feature_names)\n",
    "\n",
    "example_df"
   ]
  },
  {
   "cell_type": "code",
   "execution_count": 40,
   "id": "7e3048e1",
   "metadata": {},
   "outputs": [],
   "source": [
    "frequencies = vectors.toarray().sum(axis=0)\n",
    "sorted_indices=frequencies.argsort()[::-1]"
   ]
  },
  {
   "cell_type": "code",
   "execution_count": 41,
   "id": "8c60cd8e",
   "metadata": {},
   "outputs": [
    {
     "name": "stdout",
     "output_type": "stream",
     "text": [
      "the :  4\n",
      "cat :  4\n",
      "mat :  3\n",
      "my :  2\n",
      "mouse :  2\n",
      "dog :  2\n"
     ]
    }
   ],
   "source": [
    " \n",
    "sorted_feature_names = [feature_names[idx] for idx in sorted_indices]\n",
    "sorted_frequencies = frequencies[sorted_indices]\n",
    "\n",
    "\n",
    "for i in range(len(sorted_feature_names)):\n",
    "    print(sorted_feature_names[i], \": \", sorted_frequencies[i])"
   ]
  },
  {
   "cell_type": "code",
   "execution_count": 42,
   "id": "f35ab2a4",
   "metadata": {},
   "outputs": [
    {
     "name": "stdout",
     "output_type": "stream",
     "text": [
      "\n",
      "TF-IDF Vectorization:\n"
     ]
    },
    {
     "data": {
      "text/html": [
       "<div>\n",
       "<style scoped>\n",
       "    .dataframe tbody tr th:only-of-type {\n",
       "        vertical-align: middle;\n",
       "    }\n",
       "\n",
       "    .dataframe tbody tr th {\n",
       "        vertical-align: top;\n",
       "    }\n",
       "\n",
       "    .dataframe thead th {\n",
       "        text-align: right;\n",
       "    }\n",
       "</style>\n",
       "<table border=\"1\" class=\"dataframe\">\n",
       "  <thead>\n",
       "    <tr style=\"text-align: right;\">\n",
       "      <th></th>\n",
       "      <th>cat</th>\n",
       "      <th>dog</th>\n",
       "      <th>mat</th>\n",
       "      <th>mouse</th>\n",
       "      <th>my</th>\n",
       "      <th>the</th>\n",
       "    </tr>\n",
       "  </thead>\n",
       "  <tbody>\n",
       "    <tr>\n",
       "      <th>0</th>\n",
       "      <td>0.341846</td>\n",
       "      <td>0.516470</td>\n",
       "      <td>0.418127</td>\n",
       "      <td>0.000000</td>\n",
       "      <td>0.516470</td>\n",
       "      <td>0.418127</td>\n",
       "    </tr>\n",
       "    <tr>\n",
       "      <th>1</th>\n",
       "      <td>0.500491</td>\n",
       "      <td>0.000000</td>\n",
       "      <td>0.612172</td>\n",
       "      <td>0.000000</td>\n",
       "      <td>0.000000</td>\n",
       "      <td>0.612172</td>\n",
       "    </tr>\n",
       "    <tr>\n",
       "      <th>2</th>\n",
       "      <td>0.304813</td>\n",
       "      <td>0.000000</td>\n",
       "      <td>0.372830</td>\n",
       "      <td>0.460519</td>\n",
       "      <td>0.000000</td>\n",
       "      <td>0.745660</td>\n",
       "    </tr>\n",
       "    <tr>\n",
       "      <th>3</th>\n",
       "      <td>0.356966</td>\n",
       "      <td>0.539313</td>\n",
       "      <td>0.000000</td>\n",
       "      <td>0.539313</td>\n",
       "      <td>0.539313</td>\n",
       "      <td>0.000000</td>\n",
       "    </tr>\n",
       "  </tbody>\n",
       "</table>\n",
       "</div>"
      ],
      "text/plain": [
       "        cat       dog       mat     mouse        my       the\n",
       "0  0.341846  0.516470  0.418127  0.000000  0.516470  0.418127\n",
       "1  0.500491  0.000000  0.612172  0.000000  0.000000  0.612172\n",
       "2  0.304813  0.000000  0.372830  0.460519  0.000000  0.745660\n",
       "3  0.356966  0.539313  0.000000  0.539313  0.539313  0.000000"
      ]
     },
     "execution_count": 42,
     "metadata": {},
     "output_type": "execute_result"
    }
   ],
   "source": [
    "from sklearn.feature_extraction.text import TfidfVectorizer \n",
    "\n",
    "tfidf_vectorizer = TfidfVectorizer(max_features=max_features)\n",
    "tfidf_vectors = tfidf_vectorizer.fit_transform(documents)\n",
    "\n",
    "print(\"\\nTF-IDF Vectorization:\")\n",
    "\n",
    "feature_names=tfidf_vectorizer.get_feature_names_out()\n",
    "\n",
    "example_df = pd.DataFrame(data=tfidf_vectors.toarray(),columns=feature_names)\n",
    "example_df"
   ]
  },
  {
   "cell_type": "code",
   "execution_count": 43,
   "id": "a81db6bc",
   "metadata": {},
   "outputs": [],
   "source": [
    "from sklearn.feature_extraction.text import CountVectorizer, TfidfVectorizer\n",
    "\n",
    "corpus = df['processed_Message']\n",
    "\n",
    "\n",
    "max_features = 100\n",
    "\n",
    "count_vectorizer = CountVectorizer(max_features=max_features)\n",
    "\n",
    "vectors = count_vectorizer.fit_transform(corpus)\n",
    "\n",
    "tfidf_vectorizer = TfidfVectorizer(max_features=max_features)\n",
    "tfidf_vectors = tfidf_vectorizer.fit_transform(corpus)"
   ]
  },
  {
   "cell_type": "code",
   "execution_count": 44,
   "id": "20219aec",
   "metadata": {},
   "outputs": [
    {
     "name": "stdout",
     "output_type": "stream",
     "text": [
      "  (0, 61)\t1\n",
      "  (0, 4)\t1\n",
      "  (1, 17)\t1\n",
      "  (3, 95)\t1\n",
      "  (3, 14)\t1\n",
      "  (4, 68)\t2\n",
      "  (4, 0)\t1\n",
      "  (5, 80)\t1\n",
      "  (6, 27)\t1\n",
      "  (6, 93)\t1\n",
      "  (6, 3)\t1\n",
      "  (6, 38)\t1\n",
      "  (6, 72)\t1\n",
      "  (6, 57)\t1\n",
      "  (6, 70)\t1\n",
      "  (7, 14)\t1\n",
      "  (7, 38)\t2\n",
      "  (8, 18)\t1\n",
      "  (9, 4)\t1\n",
      "  (9, 62)\t1\n",
      "  (9, 7)\t2\n",
      "  (10, 4)\t1\n",
      "  (10, 17)\t2\n",
      "  (10, 48)\t3\n",
      "  (10, 8)\t1\n",
      "  :\t:\n",
      "  (5220, 34)\t1\n",
      "  (5221, 17)\t1\n",
      "  (5221, 70)\t1\n",
      "  (5221, 48)\t2\n",
      "  (5221, 66)\t1\n",
      "  (5221, 86)\t1\n",
      "  (5221, 77)\t1\n",
      "  (5223, 56)\t1\n",
      "  (5223, 21)\t1\n",
      "  (5223, 40)\t1\n",
      "  (5224, 4)\t1\n",
      "  (5224, 11)\t1\n",
      "  (5225, 27)\t1\n",
      "  (5225, 19)\t1\n",
      "  (5225, 52)\t1\n",
      "  (5225, 20)\t1\n",
      "  (5226, 17)\t1\n",
      "  (5226, 48)\t1\n",
      "  (5226, 90)\t1\n",
      "  (5226, 11)\t1\n",
      "  (5226, 97)\t1\n",
      "  (5226, 13)\t1\n",
      "  (5226, 23)\t1\n",
      "  (5226, 1)\t1\n",
      "  (5226, 46)\t1\n",
      "[[0 0 0 ... 0 0 0]\n",
      " [0 0 0 ... 0 0 0]\n",
      " [0 0 0 ... 0 0 0]\n",
      " ...\n",
      " [0 0 0 ... 0 0 0]\n",
      " [0 0 0 ... 0 0 0]\n",
      " [0 1 0 ... 1 0 0]]\n"
     ]
    }
   ],
   "source": [
    "from sklearn.model_selection import train_test_split\n",
    "\n",
    "X = vectors\n",
    "print(X)\n",
    "\n",
    "y = df['Spam']\n",
    "\n",
    "X = X.toarray()\n",
    "print(X)\n",
    "X_train, X_test, y_train, y_test = train_test_split(X, y, random_state=42)"
   ]
  },
  {
   "cell_type": "code",
   "execution_count": null,
   "id": "03284462",
   "metadata": {},
   "outputs": [
    {
     "name": "stdout",
     "output_type": "stream",
     "text": [
      "Epoch 1/10\n",
      "123/123 [==============================] - 1s 1ms/step - loss: 0.4087 - accuracy: 0.8574\n",
      "Epoch 2/10\n",
      "123/123 [==============================] - 0s 993us/step - loss: 0.1638 - accuracy: 0.9492\n",
      "Epoch 3/10\n",
      "123/123 [==============================] - 0s 992us/step - loss: 0.1234 - accuracy: 0.9579\n",
      "Epoch 4/10\n",
      "123/123 [==============================] - 0s 967us/step - loss: 0.1120 - accuracy: 0.9622\n",
      "Epoch 5/10\n",
      "123/123 [==============================] - 0s 964us/step - loss: 0.1045 - accuracy: 0.9635\n",
      "Epoch 6/10\n",
      "123/123 [==============================] - 0s 959us/step - loss: 0.0983 - accuracy: 0.9635\n",
      "Epoch 7/10\n",
      "123/123 [==============================] - 0s 984us/step - loss: 0.0930 - accuracy: 0.9666\n",
      "Epoch 8/10\n",
      "123/123 [==============================] - 0s 959us/step - loss: 0.0870 - accuracy: 0.9724\n",
      "Epoch 9/10\n",
      "123/123 [==============================] - 0s 984us/step - loss: 0.0832 - accuracy: 0.9727\n",
      "Epoch 10/10\n",
      "123/123 [==============================] - 0s 1ms/step - loss: 0.0789 - accuracy: 0.9765\n"
     ]
    },
    {
     "data": {
      "text/plain": [
       "<keras.src.callbacks.History at 0x1c0b8c582d0>"
      ]
     },
     "execution_count": 26,
     "metadata": {},
     "output_type": "execute_result"
    }
   ],
   "source": [
    "from sklearn.metrics import accuracy_score\n",
    "from keras.models import Sequential\n",
    "from keras.layers import Dense\n",
    "\n",
    "model = Sequential()\n",
    "model.add(Dense(64, input_dim=X_train.shape[1], activation='relu'))\n",
    "model.add(Dense(32, activation='relu'))\n",
    "model.add(Dense(1, activation='sigmoid'))\n",
    "\n",
    "model.compile(loss='binary_crossentropy', optimizer='adam', metrics=['accuracy'])\n",
    "\n",
    "model.fit(X_train, y_train, epochs=10, batch_size=32)"
   ]
  },
  {
   "cell_type": "code",
   "execution_count": null,
   "id": "1870435a",
   "metadata": {},
   "outputs": [
    {
     "name": "stdout",
     "output_type": "stream",
     "text": [
      "41/41 [==============================] - 0s 725us/step\n",
      "Accuracy: 96.86\n"
     ]
    }
   ],
   "source": [
    "import numpy as np\n",
    "\n",
    "y_pred_prob = model.predict(X_test)\n",
    "y_pred = np.round(y_pred_prob)\n",
    "\n",
    "accuracy = accuracy_score(y_test, y_pred)\n",
    "print(\"Accuracy:\", round(accuracy*100,2))"
   ]
  },
  {
   "cell_type": "code",
   "execution_count": null,
   "id": "5c9a081c",
   "metadata": {},
   "outputs": [],
   "source": [
    "from sklearn.model_selection import train_test_split\n",
    "\n",
    "X = tfidf_vectors\n",
    "\n",
    "y = df['Spam']\n",
    "\n",
    "X = X.toarray()\n",
    "\n",
    "X_train, X_test, y_train, y_test = train_test_split(X, y, random_state=42)"
   ]
  },
  {
   "cell_type": "code",
   "execution_count": null,
   "id": "ef55ab9c",
   "metadata": {},
   "outputs": [
    {
     "name": "stdout",
     "output_type": "stream",
     "text": [
      "Epoch 1/10\n",
      "123/123 [==============================] - 1s 926us/step - loss: 0.4213 - accuracy: 0.8413\n",
      "Epoch 2/10\n",
      "123/123 [==============================] - 0s 910us/step - loss: 0.2018 - accuracy: 0.9163\n",
      "Epoch 3/10\n",
      "123/123 [==============================] - 0s 910us/step - loss: 0.1389 - accuracy: 0.9533\n",
      "Epoch 4/10\n",
      "123/123 [==============================] - 0s 918us/step - loss: 0.1244 - accuracy: 0.9592\n",
      "Epoch 5/10\n",
      "123/123 [==============================] - 0s 918us/step - loss: 0.1141 - accuracy: 0.9610\n",
      "Epoch 6/10\n",
      "123/123 [==============================] - 0s 910us/step - loss: 0.1100 - accuracy: 0.9638\n",
      "Epoch 7/10\n",
      "123/123 [==============================] - 0s 926us/step - loss: 0.1038 - accuracy: 0.9656\n",
      "Epoch 8/10\n",
      "123/123 [==============================] - 0s 910us/step - loss: 0.0992 - accuracy: 0.9673\n",
      "Epoch 9/10\n",
      "123/123 [==============================] - 0s 918us/step - loss: 0.0947 - accuracy: 0.9679\n",
      "Epoch 10/10\n",
      "123/123 [==============================] - 0s 926us/step - loss: 0.0891 - accuracy: 0.9709\n"
     ]
    },
    {
     "data": {
      "text/plain": [
       "<keras.src.callbacks.History at 0x1c0afb33a10>"
      ]
     },
     "execution_count": 32,
     "metadata": {},
     "output_type": "execute_result"
    }
   ],
   "source": [
    "from sklearn.metrics import accuracy_score\n",
    "from keras.models import Sequential\n",
    "from keras.layers import Dense\n",
    "\n",
    "model = Sequential()\n",
    "model.add(Dense(64, input_dim=X_train.shape[1], activation='relu'))\n",
    "model.add(Dense(32, activation='relu'))\n",
    "model.add(Dense(1, activation='sigmoid'))\n",
    "\n",
    "model.compile(loss='binary_crossentropy', optimizer='adam', metrics=['accuracy'])\n",
    "\n",
    "model.fit(X_train, y_train, epochs=10, batch_size=32)"
   ]
  },
  {
   "cell_type": "code",
   "execution_count": null,
   "id": "7bc14080",
   "metadata": {},
   "outputs": [
    {
     "name": "stdout",
     "output_type": "stream",
     "text": [
      "41/41 [==============================] - 0s 725us/step\n",
      "Accuracy: 97.02\n"
     ]
    }
   ],
   "source": [
    "import numpy as np\n",
    "\n",
    "y_pred_prob = model.predict(X_test)\n",
    "y_pred = np.round(y_pred_prob)\n",
    "\n",
    "accuracy = accuracy_score(y_test, y_pred)\n",
    "print(\"Accuracy:\", round(accuracy*100,2))"
   ]
  },
  {
   "cell_type": "code",
   "execution_count": null,
   "id": "400e7cdd",
   "metadata": {},
   "outputs": [
    {
     "name": "stdout",
     "output_type": "stream",
     "text": [
      "1/1 [==============================] - 0s 16ms/step\n",
      "[[1.]]\n"
     ]
    }
   ],
   "source": [
    "message=\"call to get free prize one million dollars\"\n",
    "\n",
    "processed_message=preprocess_text(message)\n",
    "\n",
    "vector=tfidf_vectorizer.transform([processed_message])\n",
    "vector_dense=vector.toarray()\n",
    "\n",
    "y_pred_prob = model.predict(vector_dense)\n",
    "\n",
    "y_pred = np.round(y_pred_prob)\n",
    "print(y_pred)"
   ]
  },
  {
   "cell_type": "code",
   "execution_count": null,
   "id": "96b99869",
   "metadata": {},
   "outputs": [],
   "source": []
  },
  {
   "cell_type": "code",
   "execution_count": null,
   "id": "8e24c30f",
   "metadata": {},
   "outputs": [],
   "source": []
  }
 ],
 "metadata": {
  "kernelspec": {
   "display_name": "Python (id_card)",
   "language": "python",
   "name": "id_card"
  },
  "language_info": {
   "codemirror_mode": {
    "name": "ipython",
    "version": 3
   },
   "file_extension": ".py",
   "mimetype": "text/x-python",
   "name": "python",
   "nbconvert_exporter": "python",
   "pygments_lexer": "ipython3",
   "version": "3.8.19"
  }
 },
 "nbformat": 4,
 "nbformat_minor": 5
}
